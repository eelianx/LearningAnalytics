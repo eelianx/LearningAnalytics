{
 "cells": [
  {
   "cell_type": "code",
   "execution_count": 1,
   "id": "eec17774",
   "metadata": {},
   "outputs": [],
   "source": [
    "import numpy as np\n",
    "import pandas as pd\n",
    "import os\n",
    "import math\n",
    "os.getcwd()\n",
    "os.chdir('C:\\\\Users\\\\EeLian\\\\Desktop\\\\OULAD_KAGGLE\\\\PythonCodeCleanUp\\\\Data')"
   ]
  },
  {
   "cell_type": "markdown",
   "id": "9a3cbffe",
   "metadata": {},
   "source": [
    "### A01_Lean_Dashboard_for_EEE2014J: read data"
   ]
  },
  {
   "cell_type": "code",
   "execution_count": 2,
   "id": "1259cd87",
   "metadata": {},
   "outputs": [],
   "source": [
    "# read data file.\n",
    "# most of these can be filtered directly except assessments and studentVle\n",
    "\n",
    "studentInfo = pd.read_csv('studentInfo.csv')\n",
    "#EEE2014J\n",
    "courses = pd.read_csv('courses.csv')\n",
    "#EEE2014J\n",
    "studentRegistration = pd.read_csv('studentRegistration.csv')\n",
    "#EEE2014J\n",
    "studentAssessment = pd.read_csv('studentAssessment.csv')\n",
    "#EEE2014J\n",
    "assessments = pd.read_csv('assessments.csv')\n",
    "#HHH\n",
    "studentVle = pd.read_csv('studentVle.csv')\n",
    "#HHH\n",
    "vle = pd.read_csv('vle.csv')\n",
    "#EEE2014J\n",
    "dates = pd.read_csv('dates.csv')\n",
    "#two years date to date_groups"
   ]
  },
  {
   "cell_type": "markdown",
   "id": "fc7ffb17",
   "metadata": {},
   "source": [
    "### A01_Lean_Dashboard_for_EEE2014J: date groups"
   ]
  },
  {
   "cell_type": "code",
   "execution_count": 3,
   "id": "26deb636",
   "metadata": {},
   "outputs": [],
   "source": [
    "dates['date_unregistration']=dates['date']\n",
    "dates['date_registration']=dates['date']\n",
    "\n",
    "dates['_date_group_unregistration'] = pd.Series([], dtype=float)\n",
    "dates['_date_group_unregistration'] = dates['date_unregistration']\n",
    "dates.loc[dates['date_unregistration'] <0, '_date_group_unregistration'] = dates['_date_group_unregistration'].apply(lambda x: math.ceil(float(x/7)))\n",
    "dates.loc[dates['date_unregistration'] >=0, '_date_group_unregistration'] = dates['_date_group_unregistration'].apply(lambda x: math.floor(float((x/7)+1)))\n",
    "\n",
    "dates['_date_group_registration'] = pd.Series([], dtype=float)\n",
    "dates['_date_group_registration'] = dates['date_registration']\n",
    "dates.loc[dates['date_registration'] <0, '_date_group_registration'] = dates['_date_group_registration'].apply(lambda x: math.ceil(float(x/7)))\n",
    "dates.loc[dates['date_registration'] >=0, '_date_group_registration'] = dates['_date_group_registration'].apply(lambda x: math.floor(float((x/7)+1)))\n"
   ]
  },
  {
   "cell_type": "markdown",
   "id": "78b4fb8b",
   "metadata": {},
   "source": [
    "### A01_Lean_Dashboard_for_EEE2014J: Table 1"
   ]
  },
  {
   "cell_type": "code",
   "execution_count": 4,
   "id": "02c9e1f9",
   "metadata": {},
   "outputs": [],
   "source": [
    "# read datafile\n",
    "studentInfo = pd.read_csv('studentInfo.csv')\n",
    "courses = pd.read_csv('courses.csv')\n",
    "studentRegistration = pd.read_csv('studentRegistration.csv')\n",
    "\n",
    "# add _fl_latest_module_attended\n",
    "studentInfo.sort_values(by= ['id_student','code_module','code_presentation'], inplace = True, ascending = False)\n",
    "studentInfo['_fl_latest_module_attended'] = studentInfo.groupby(['id_student','code_module'])['id_student'].rank(method='first', ascending = False)\n",
    "\n",
    "# merge/ left join to get studentInfo + courses + registration \n",
    "# name as studentInfo3 cos 3 files\n",
    "studentInfo2 = studentInfo.merge(courses, how='left', left_on=['code_module', 'code_presentation'], right_on=['code_module', 'code_presentation'])\n",
    "studentInfo3 = studentInfo2.merge(studentRegistration, how='left', left_on=['code_module', 'code_presentation', 'id_student'], right_on=['code_module', 'code_presentation', 'id_student'])\n",
    "\n",
    "# grouping the dates as _date_groups of weeks based on registration and unregistration dates\n",
    "# studentInfo3['_date_group_registration'] = pd.Series([], dtype=float)\n",
    "# studentInfo3['_date_group_registration'] = studentInfo3['date_registration']\n",
    "# studentInfo3.loc[studentInfo3['date_registration'].isnull(), '_date_group_registration'] = ''\n",
    "# studentInfo3.loc[studentInfo3['date_registration'] <0, '_date_group_registration'] = studentInfo3['_date_group_registration'].apply(lambda x: math.ceil(float(x/7)))\n",
    "# studentInfo3.loc[studentInfo3['date_registration'] >=0, '_date_group_registration'] = studentInfo3['_date_group_registration'].apply(lambda x: math.floor(float((x/7)+1)))\n",
    "\n",
    "# studentInfo3['_date_group_unregistration'] = pd.Series([], dtype=float)\n",
    "# studentInfo3['_date_group_unregistration'] = studentInfo3['date_unregistration']\n",
    "# studentInfo3.loc[studentInfo3['date_unregistration'].isnull(), '_date_group_unregistration'] = ''\n",
    "# studentInfo3.loc[studentInfo3['date_unregistration'] <0, '_date_group_unregistration'] = studentInfo3['_date_group_unregistration'].apply(lambda x: math.ceil(float(x/7)))\n",
    "# studentInfo3.loc[studentInfo3['date_unregistration'] >=0, '_date_group_unregistration'] = studentInfo3['_date_group_unregistration'].apply(lambda x: math.floor(float((x/7)+1)))\n",
    "\n",
    "# flag_actual_dropout\n",
    "studentInfo3.loc[studentInfo3['date_unregistration'] >0, '_flag_actual_dropout'] = 1\n",
    "studentInfo3.loc[studentInfo3['date_unregistration'] <=0, '_flag_actual_dropout'] = 0\n",
    "studentInfo3.loc[studentInfo3['date_unregistration'].isnull(), '_flag_actual_dropout'] = 0\n",
    "\n",
    "# _flag_prestart_withdrawal\n",
    "studentInfo3.loc[((studentInfo3['_flag_actual_dropout']==0)&(studentInfo3['final_result'].isin(['Withdrawn']))), '_flag_prestart_withdrawal'] = 1\n",
    "studentInfo3.loc[~((studentInfo3['_flag_actual_dropout']==0)&(studentInfo3['final_result'].isin(['Withdrawn']))), '_flag_prestart_withdrawal'] = 0\n",
    "\n",
    "# _flag_final_result\n",
    "studentInfo3['_flag_final_result'] = pd.Series([], dtype=int)\n",
    "studentInfo3.loc[(studentInfo3['final_result'].isin(['Withdrawn']))|(studentInfo3['final_result'].isin(['Fail'])), '_flag_final_result'] = 1\n",
    "studentInfo3.loc[(studentInfo3['final_result'].isin(['Distinction']))|(studentInfo3['final_result'].isin(['Pass'])), '_flag_final_result'] = 0\n",
    "\n",
    "# update the imd_band without % sign\n",
    "studentInfo3=studentInfo3.replace({\n",
    "    'imd_band': {\n",
    "        '10-20': '10-20%'\n",
    "    }\n",
    "})\n",
    "\n",
    "# surrogate keys creation\n",
    "studentInfo3['_surrogate_key_one']=\\\n",
    "    studentInfo3['id_student'].astype(str) + \\\n",
    "    studentInfo3['final_result']+ \\\n",
    "    studentInfo3['code_module']+ \\\n",
    "    studentInfo3['code_presentation']\n",
    "studentInfo3['_surrogate_key_two']=\\\n",
    "    studentInfo3['final_result']+ \\\n",
    "    studentInfo3['code_module']+ \\\n",
    "    studentInfo3['code_presentation']\n",
    "studentInfo3['_surrogate_key_three']=\\\n",
    "    studentInfo3['id_student'].astype(str) + \\\n",
    "    studentInfo3['code_module']+ \\\n",
    "    studentInfo3['code_presentation']\n",
    "studentInfo3['_surrogate_key_four']=\\\n",
    "    studentInfo3['code_module']+ \\\n",
    "    studentInfo3['code_presentation']\n",
    "\n",
    "# filter by EEE2014J only\n",
    "LeanDashboard_Table1_EEE2014J_Profile= studentInfo3[(studentInfo3['_surrogate_key_four'].isin(['EEE2014J']))]"
   ]
  },
  {
   "cell_type": "markdown",
   "id": "89cf9415",
   "metadata": {},
   "source": [
    "### A01_Lean_Dashboard_for_EEE2014J: Table 2"
   ]
  },
  {
   "cell_type": "code",
   "execution_count": 5,
   "id": "ef141c83",
   "metadata": {},
   "outputs": [],
   "source": [
    "# merge studentAssessment with assessments table\n",
    "studentAssessment2 = studentAssessment.merge(assessments, how='left', left_on=[\"id_assessment\"], right_on=[\"id_assessment\"])\n",
    "\n",
    "# add _flag_null_score just to check if there is submission\n",
    "studentAssessment2['_flag_null_score']=studentAssessment2['score'].isnull().astype(int)\n",
    "\n",
    "# add weighted score\n",
    "studentAssessment2['_weighted_score'] = studentAssessment2['score']*studentAssessment2['weight']\n",
    "\n",
    "# add pass fail. the NaN means didnt submit\n",
    "studentAssessment2.loc[studentAssessment2['score'] >=40, '_flag_assessment_passed'] = 1\n",
    "studentAssessment2.loc[studentAssessment2['score'] <40, '_flag_assessment_passed'] = 0\n",
    "\n",
    "# grouping the dates as _date_groups of weeks based on submission dates\n",
    "studentAssessment2['_date_group'] = pd.Series([], dtype=float)\n",
    "studentAssessment2['_date_group'] = studentAssessment2['date_submitted']\n",
    "studentAssessment2.loc[studentAssessment2['date_submitted'] <0, '_date_group'] = studentAssessment2['_date_group'].apply(lambda x: math.ceil(float(x/7)))\n",
    "studentAssessment2.loc[studentAssessment2['date_submitted'] >=0, '_date_group'] = studentAssessment2['_date_group'].apply(lambda x: math.floor(float((x/7)+1)))\n",
    "\n",
    "# activity pre course \n",
    "studentAssessment2.loc[studentAssessment2['date_submitted'] <0, '_precourse'] = 1\n",
    "studentAssessment2.loc[studentAssessment2['date_submitted'] >=0, '_precourse'] = 0\n",
    "\n",
    "# distinct of student info\n",
    "studentInfo3_results_distinct=studentInfo3[['id_student', 'code_module', 'code_presentation', 'final_result']]\n",
    "studentInfo3_results_distinct=studentInfo3_results_distinct.drop_duplicates()\n",
    "\n",
    "# merging assessment scores with student info\n",
    "studentAssessment3 = studentAssessment2.merge(studentInfo3_results_distinct, how='left', \\\n",
    "                                                 left_on=['id_student', 'code_module', 'code_presentation'], \\\n",
    "                                                 right_on=['id_student', 'code_module', 'code_presentation'])\n",
    "\n",
    "# surrogate keys creation\n",
    "studentAssessment3['_surrogate_key_one']=\\\n",
    "    studentAssessment3['id_student'].astype(str) + \\\n",
    "    studentAssessment3['final_result']+ \\\n",
    "    studentAssessment3['code_module']+ \\\n",
    "    studentAssessment3['code_presentation']\n",
    "studentAssessment3['_surrogate_key_two']=\\\n",
    "    studentAssessment3['final_result']+ \\\n",
    "    studentAssessment3['code_module']+ \\\n",
    "    studentAssessment3['code_presentation']\n",
    "studentAssessment3['_surrogate_key_three']=\\\n",
    "    studentAssessment3['id_student'].astype(str) + \\\n",
    "    studentAssessment3['code_module']+ \\\n",
    "    studentAssessment3['code_presentation']\n",
    "studentAssessment3['_surrogate_key_four']=\\\n",
    "    studentAssessment3['code_module']+ \\\n",
    "    studentAssessment3['code_presentation']\n",
    "\n",
    "# division by the denominator for weighted score\n",
    "studentAssessment3.loc[studentAssessment3['code_module'].isin(['EEE']), '_final_weighted_score'] = \\\n",
    "studentAssessment3['_weighted_score']/100\n",
    "\n",
    "# filter by EEE2014J only\n",
    "LeanDashboard_Table2_EEE2014J_Assessment= studentAssessment3[(studentAssessment3['_surrogate_key_four'].isin(['EEE2014J']))]"
   ]
  },
  {
   "cell_type": "markdown",
   "id": "8651aec3",
   "metadata": {},
   "source": [
    "### A01_Lean_Dashboard_for_EEE2014J: Table 3"
   ]
  },
  {
   "cell_type": "code",
   "execution_count": 6,
   "id": "1096d9e7",
   "metadata": {},
   "outputs": [],
   "source": [
    "# merging of studentVle with vle table\n",
    "studentVle3 = studentVle.merge(vle, how='left', \\\n",
    "                                                 left_on=[\"code_module\", \"code_presentation\",\"id_site\"], \\\n",
    "                                                 right_on=[\"code_module\", \"code_presentation\",\"id_site\"])\n",
    "\n",
    "# grouping the dates as _date_groups of weeks based on activity dates\n",
    "studentVle3['_date_group'] = pd.Series([], dtype=float)\n",
    "studentVle3['_date_group'] = studentVle3['date']\n",
    "studentVle3.loc[studentVle3['date'] <0, '_date_group'] = studentVle3['_date_group'].apply(lambda x: math.ceil(float(x/7)))\n",
    "studentVle3.loc[studentVle3['date'] >=0, '_date_group'] = studentVle3['_date_group'].apply(lambda x: math.floor(float((x/7)+1)))\n",
    "\n",
    "# identifying pre semester start or pre course start activities\n",
    "studentVle3.loc[studentVle3['date'] <0, '_precourse'] = 1\n",
    "studentVle3.loc[studentVle3['date'] >=0, '_precourse'] = 0\n",
    "\n",
    "# distinct of student info\n",
    "studentInfo3_results_distinct=studentInfo3[['id_student','code_module','code_presentation','final_result']]\n",
    "studentInfo3_results_distinct=studentInfo3_results_distinct.drop_duplicates()\n",
    "\n",
    "# merging vle with student info\n",
    "studentVle4 = studentVle3.merge(studentInfo3_results_distinct, how='left', \\\n",
    "                                                 left_on=[\"id_student\",\"code_module\", \"code_presentation\"], \\\n",
    "                                                 right_on=[\"id_student\",\"code_module\", \"code_presentation\"])\n",
    "\n",
    "# surrogate keys creation\n",
    "studentVle4['_surrogate_key_one']=\\\n",
    "    studentVle4['id_student'].astype(str) + \\\n",
    "    studentVle4['final_result']+ \\\n",
    "    studentVle4['code_module']+ \\\n",
    "    studentVle4['code_presentation']\n",
    "studentVle4['_surrogate_key_two']=\\\n",
    "    studentVle4['final_result']+ \\\n",
    "    studentVle4['code_module']+ \\\n",
    "    studentVle4['code_presentation']\n",
    "studentVle4['_surrogate_key_three']=\\\n",
    "    studentVle4['id_student'].astype(str) + \\\n",
    "    studentVle4['code_module']+ \\\n",
    "    studentVle4['code_presentation']\n",
    "studentVle4['_surrogate_key_four']=\\\n",
    "    studentVle4['code_module']+ \\\n",
    "    studentVle4['code_presentation']\n",
    "\n",
    "# filter by EEE2014J only\n",
    "LeanDashboard_Table3_EEE2014J_ClickStream= studentVle4[(studentVle4['_surrogate_key_four'].isin(['EEE2014J']))]"
   ]
  },
  {
   "cell_type": "code",
   "execution_count": 7,
   "id": "080d95a9",
   "metadata": {},
   "outputs": [
    {
     "name": "stderr",
     "output_type": "stream",
     "text": [
      "<ipython-input-7-458b5f7b0377>:5: SettingWithCopyWarning: \n",
      "A value is trying to be set on a copy of a slice from a DataFrame.\n",
      "Try using .loc[row_indexer,col_indexer] = value instead\n",
      "\n",
      "See the caveats in the documentation: https://pandas.pydata.org/pandas-docs/stable/user_guide/indexing.html#returning-a-view-versus-a-copy\n",
      "  Assessment_is_banked3[\"_flag_isbanked\"] = Assessment_is_banked3['is_banked']\n"
     ]
    }
   ],
   "source": [
    "# find is banked tagging\n",
    "Assessment_is_banked=LeanDashboard_Table2_EEE2014J_Assessment[LeanDashboard_Table2_EEE2014J_Assessment['is_banked'].isin([1])]\n",
    "Assessment_is_banked2=Assessment_is_banked[['id_student','is_banked']]\n",
    "Assessment_is_banked3=Assessment_is_banked2.drop_duplicates()\n",
    "Assessment_is_banked3[\"_flag_isbanked\"] = Assessment_is_banked3['is_banked']\n",
    "Assessment_is_banked3=Assessment_is_banked3.drop(['is_banked'], axis = 1)"
   ]
  },
  {
   "cell_type": "code",
   "execution_count": 8,
   "id": "c39ee82e",
   "metadata": {},
   "outputs": [],
   "source": [
    "# send to csv\n",
    "dates.to_csv('Dataset_Dashboard_Table1_Date_Group.csv',index=True,header=True)\n",
    "LeanDashboard_Table1_EEE2014J_Profile.to_csv('Dataset_LeanDashboard_Table1_EEE2014J_Profile.csv',index=True,header=True)\n",
    "LeanDashboard_Table2_EEE2014J_Assessment.to_csv('Dataset_LeanDashboard_Table2_EEE2014J_Assessment.csv',index=True,header=True)\n",
    "LeanDashboard_Table3_EEE2014J_ClickStream.to_csv('Dataset_LeanDashboard_Table3_EEE2014J_ClickStream.csv',index=True,header=True)\n",
    "Assessment_is_banked3.to_csv('Dataset_LeanDashboard_Table4_EEE2014J_isBanked.csv',index=True,header=True)"
   ]
  },
  {
   "cell_type": "markdown",
   "id": "9ec2f9ea",
   "metadata": {},
   "source": [
    "### Prepped Predictions"
   ]
  },
  {
   "cell_type": "code",
   "execution_count": 9,
   "id": "4238b116",
   "metadata": {},
   "outputs": [],
   "source": [
    "Dataset_Dashboard_Table1_Predictions = pd.read_csv('Dataset_Dashboard_Table1_Predictions.csv')\n",
    "Dataset_Dashboard_Table1_Predictions.to_csv('Dataset_LeanDashboard_Table5_EEE2014J_Predictions.csv',index=True,header=True)"
   ]
  },
  {
   "cell_type": "markdown",
   "id": "607132a9",
   "metadata": {},
   "source": [
    "### Optimizing Baseline Models"
   ]
  },
  {
   "cell_type": "markdown",
   "id": "67cbbf22",
   "metadata": {},
   "source": [
    "* Refer to A007_EL_EEE_Modeling_Exclude_Churn for the optimized baseline models"
   ]
  },
  {
   "cell_type": "markdown",
   "id": "bdc24a91",
   "metadata": {},
   "source": [
    "### Other Dashboard Tables"
   ]
  },
  {
   "cell_type": "markdown",
   "id": "e351bbac",
   "metadata": {},
   "source": [
    "* Dataset_Dashboard_Table1_GeoLatLong\n",
    "* Dataset_Dashboard_Table1_HighestEd\n",
    "* Dataset_Dashboard_Table1_ModuleDomain"
   ]
  },
  {
   "cell_type": "code",
   "execution_count": null,
   "id": "69856820",
   "metadata": {},
   "outputs": [],
   "source": []
  },
  {
   "cell_type": "code",
   "execution_count": null,
   "id": "6fb78878",
   "metadata": {},
   "outputs": [],
   "source": []
  },
  {
   "cell_type": "code",
   "execution_count": null,
   "id": "8416ea4e",
   "metadata": {},
   "outputs": [],
   "source": []
  },
  {
   "cell_type": "code",
   "execution_count": null,
   "id": "aaa8a2b7",
   "metadata": {},
   "outputs": [],
   "source": []
  },
  {
   "cell_type": "code",
   "execution_count": null,
   "id": "2e2fa1e7",
   "metadata": {},
   "outputs": [],
   "source": []
  }
 ],
 "metadata": {
  "kernelspec": {
   "display_name": "Python 3",
   "language": "python",
   "name": "python3"
  },
  "language_info": {
   "codemirror_mode": {
    "name": "ipython",
    "version": 3
   },
   "file_extension": ".py",
   "mimetype": "text/x-python",
   "name": "python",
   "nbconvert_exporter": "python",
   "pygments_lexer": "ipython3",
   "version": "3.8.8"
  }
 },
 "nbformat": 4,
 "nbformat_minor": 5
}
