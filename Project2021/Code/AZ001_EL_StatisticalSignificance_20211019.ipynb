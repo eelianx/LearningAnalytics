{
 "cells": [
  {
   "cell_type": "markdown",
   "id": "c011ca43",
   "metadata": {},
   "source": [
    "# for Statistical Significance"
   ]
  },
  {
   "cell_type": "markdown",
   "id": "e36c925b",
   "metadata": {},
   "source": [
    "Prepping of Assessment Scores, Clicks, aggregated and cumulated"
   ]
  },
  {
   "cell_type": "markdown",
   "id": "ede58ebe",
   "metadata": {},
   "source": [
    "##### Import Libraries"
   ]
  },
  {
   "cell_type": "code",
   "execution_count": 1,
   "id": "419dcc8f",
   "metadata": {},
   "outputs": [
    {
     "name": "stdout",
     "output_type": "stream",
     "text": [
      "1.2.4\n",
      "1.20.1\n",
      "3.3.4\n",
      "0.11.1\n",
      "nt\n",
      "True\n",
      "1.6.2\n",
      "0.12.2\n",
      "0.5.1\n"
     ]
    }
   ],
   "source": [
    "import pandas as pd\n",
    "from pandas import DataFrame\n",
    "import numpy as np\n",
    "\n",
    "import matplotlib\n",
    "from matplotlib import pyplot as plt\n",
    "import matplotlib.pyplot as plt\n",
    "import seaborn as sns\n",
    "\n",
    "import os\n",
    "import math\n",
    "\n",
    "import scipy\n",
    "import scipy.stats as stats\n",
    "\n",
    "import statsmodels\n",
    "import statsmodels.api as sm\n",
    "import statsmodels.formula.api as smf\n",
    "from statsmodels.stats.diagnostic import het_white\n",
    "from statsmodels.compat import lzip\n",
    "\n",
    "import patsy\n",
    "from patsy import dmatrices\n",
    "\n",
    "print (pd.__version__)\n",
    "print (np.__version__)\n",
    "print (matplotlib.__version__)\n",
    "print (sns.__version__)\n",
    "print (os.name)\n",
    "print(hasattr(math, \"isfinite\"))\n",
    "\n",
    "print (scipy.__version__)\n",
    "print (statsmodels.__version__)\n",
    "print (patsy.__version__)"
   ]
  },
  {
   "cell_type": "code",
   "execution_count": 2,
   "id": "d0369769",
   "metadata": {},
   "outputs": [],
   "source": [
    "os.getcwd()\n",
    "os.chdir('C:\\\\Users\\\\EeLian\\\\Desktop\\\\OULAD_KAGGLE\\\\PythonCodeCleanUp\\\\Data')"
   ]
  },
  {
   "cell_type": "markdown",
   "id": "c6d973a9",
   "metadata": {},
   "source": [
    "### ASSESSMENT SCORES"
   ]
  },
  {
   "cell_type": "markdown",
   "id": "4df0b0ce",
   "metadata": {},
   "source": [
    "##### What we want to prepare\n",
    "\n",
    "##### Aggregated Dimension set 1\n",
    "* id_student\n",
    "* code_module\n",
    "* code_presentation\n",
    "* final_result\n",
    "* date_group\n",
    "\n",
    "##### Aggregated Dimension set 2\n",
    "* code_module\n",
    "* code_presentation\n",
    "* final_result\n",
    "* date_group\n",
    "\n",
    "##### _surrogate_key_one\n",
    "* id_student\n",
    "* code_module\n",
    "* code_presentation\n",
    "\n",
    "##### _surrogate_key_two\n",
    "* final_result\n",
    "* code_module\n",
    "* code_presentation\n",
    "\n",
    "##### Aggregated Metrics\n",
    "* week_agg_cum_weighted_score\n",
    "* week_agg_weighted_score\n",
    "* week_agg_cum_sum_click\n",
    "* week_agg_sum_click"
   ]
  },
  {
   "cell_type": "markdown",
   "id": "228deac8",
   "metadata": {},
   "source": [
    "##### studentInfo + courses + studentRegistration"
   ]
  },
  {
   "cell_type": "code",
   "execution_count": 3,
   "id": "9282489b",
   "metadata": {},
   "outputs": [],
   "source": [
    "# import tables\n",
    "studentInfo = pd.read_csv('studentInfo.csv')\n",
    "courses = pd.read_csv('courses.csv')\n",
    "studentRegistration = pd.read_csv('studentRegistration.csv')\n",
    "# Find latest Module\n",
    "studentInfo.sort_values(by= ['id_student','code_module','code_presentation'], inplace = True, ascending = False)\n",
    "studentInfo['_fl_latest_module_attended'] = studentInfo.groupby(['id_student','code_module'])['id_student'].rank(method='first', ascending = False)\n",
    "# Merge Info with Courses and Registration\n",
    "studentInfo2 = studentInfo.merge(courses, how='left', left_on=[\"code_module\", \"code_presentation\"], right_on=[\"code_module\", \"code_presentation\"])\n",
    "studentInfo3 = studentInfo2.merge(studentRegistration, how='left', left_on=[\"code_module\", \"code_presentation\",\"id_student\"], right_on=[\"code_module\", \"code_presentation\",\"id_student\"])"
   ]
  },
  {
   "cell_type": "markdown",
   "id": "9e9ba887",
   "metadata": {},
   "source": [
    "### studentAssessment + assessments"
   ]
  },
  {
   "cell_type": "code",
   "execution_count": 4,
   "id": "67ca4232",
   "metadata": {},
   "outputs": [],
   "source": [
    "# Import Table\n",
    "studentAssessment = pd.read_csv('studentAssessment.csv')\n",
    "assessments = pd.read_csv('assessments.csv')\n",
    "# Merge Student Assessment with Assessment\n",
    "studentAssessment2 = studentAssessment.merge(assessments, how='left', left_on=[\"id_assessment\"], right_on=[\"id_assessment\"])\n",
    "# Flag null scores\n",
    "studentAssessment2['_flag_null_score']=studentAssessment2['score'].isnull().astype(int)\n",
    "# compute partial weighted score. Partial cos without denominator yet\n",
    "studentAssessment2['_weighted_score'] = studentAssessment2['score']*studentAssessment2['weight']\n",
    "# flag pass fail for each assessment score using 40 percent mark\n",
    "studentAssessment2.loc[studentAssessment2['score'] >=40, '_flag_assessment_passed'] = 1\n",
    "studentAssessment2.loc[studentAssessment2['score'] <40, '_flag_assessment_passed'] = 0\n",
    "# add date groups in weeks\n",
    "studentAssessment2[\"_date_group\"] = pd.Series([], dtype=float)\n",
    "studentAssessment2[\"_date_group\"] = studentAssessment2['date_submitted']\n",
    "studentAssessment2.loc[studentAssessment2['date_submitted'] <0, '_date_group'] = studentAssessment2['_date_group'].apply(lambda x: math.ceil(float(x/7)))\n",
    "studentAssessment2.loc[studentAssessment2['date_submitted'] >=0, '_date_group'] = studentAssessment2['_date_group'].apply(lambda x: math.floor(float((x/7)+1)))"
   ]
  },
  {
   "cell_type": "code",
   "execution_count": 5,
   "id": "89df4d79",
   "metadata": {},
   "outputs": [],
   "source": [
    "# Distinct list of students\n",
    "studentInfo3_results_distinct=studentInfo3[['id_student','code_module','code_presentation','final_result']]\n",
    "studentInfo3_results_distinct=studentInfo3_results_distinct.drop_duplicates()\n",
    "\n",
    "# Merge Left: Student Assessments, Right: studentInfo\n",
    "studentAssessment3 = studentAssessment2.merge(studentInfo3_results_distinct, how='left', \\\n",
    "                                                 left_on=[\"id_student\",\"code_module\", \"code_presentation\"], \\\n",
    "                                                 right_on=[\"id_student\",\"code_module\", \"code_presentation\"])\n",
    "\n",
    "# create Surrogate Keys\n",
    "studentAssessment3['_surrogate_key_one']=\\\n",
    "    studentAssessment3['id_student'].astype(str) + \\\n",
    "    studentAssessment3['final_result']+ \\\n",
    "    studentAssessment3['code_module']+ \\\n",
    "    studentAssessment3['code_presentation']\n",
    "studentAssessment3['_surrogate_key_two']=\\\n",
    "    studentAssessment3['final_result']+ \\\n",
    "    studentAssessment3['code_module']+ \\\n",
    "    studentAssessment3['code_presentation']"
   ]
  },
  {
   "cell_type": "code",
   "execution_count": 6,
   "id": "a337e286",
   "metadata": {},
   "outputs": [],
   "source": [
    "# sum score at student and _date_group level\n",
    "tbl_week_aggstd_weighted_score=studentAssessment3[['_surrogate_key_one','_date_group','_weighted_score']]\n",
    "\n",
    "tbl_week_aggstd_one_cum_weighted_score=\\\n",
    "    tbl_week_aggstd_weighted_score.sort_values(by = ['_surrogate_key_one','_date_group','_weighted_score'], \\\n",
    "                                               ascending = True, na_position = 'first')\n",
    "\n",
    "tbl_week_aggstd_one_cum_weighted_score=\\\n",
    "    tbl_week_aggstd_one_cum_weighted_score.groupby(['_surrogate_key_one','_date_group']).sum() \\\n",
    "      .groupby(level=0).cumsum().reset_index()\n",
    "\n",
    "tbl_week_aggstd_one_cum_weighted_score.columns = ['_surrogate_key_one','_date_group','week_agg_cum_weighted_score']\n",
    "\n",
    "#########################################################\n",
    "\n",
    "# sums up the scores for each _date_gorup for student\n",
    "tbl_week_aggstd_one_weighted_score=tbl_week_aggstd_weighted_score.\\\n",
    "            set_index(['_surrogate_key_one','_date_group']).\\\n",
    "            groupby(['_surrogate_key_one','_date_group']).\\\n",
    "            agg({'_weighted_score':['sum']})\n",
    "tbl_week_aggstd_one_weighted_score.columns = ['week_agg_weighted_score']\n",
    "tbl_week_aggstd_one_weighted_score = tbl_week_aggstd_one_weighted_score.reset_index()"
   ]
  },
  {
   "cell_type": "code",
   "execution_count": 7,
   "id": "918fbe80",
   "metadata": {},
   "outputs": [],
   "source": [
    "# sums up scores at results, _date_group level\n",
    "tbl_week_aggnostd2_two_weighted_score=studentAssessment3[['_surrogate_key_two','_date_group','_weighted_score']]\n",
    "\n",
    "tbl_week_aggnostd_two_weighted_score=tbl_week_aggnostd2_two_weighted_score.\\\n",
    "            set_index(['_surrogate_key_two','_date_group']).\\\n",
    "            groupby(['_surrogate_key_two','_date_group']).\\\n",
    "            agg({'_weighted_score':['sum']})\n",
    "tbl_week_aggnostd_two_weighted_score.columns = ['week_agg_weighted_score']\n",
    "tbl_week_aggnostd_two_weighted_score = tbl_week_aggnostd_two_weighted_score.reset_index()\n",
    "\n",
    "######################################\n",
    "# cumulative sum at results, _date_group level\n",
    "tbl_week_aggnostd_two_cum_weighted_score=\\\n",
    "    tbl_week_aggnostd_two_weighted_score.sort_values(by = ['_surrogate_key_two','_date_group','week_agg_weighted_score'], \\\n",
    "                                               ascending = True, na_position = 'first')\n",
    "\n",
    "tbl_week_aggnostd_two_cum_weighted_score=\\\n",
    "    tbl_week_aggnostd_two_cum_weighted_score.groupby(['_surrogate_key_two','_date_group']).sum() \\\n",
    "      .groupby(level=0).cumsum().reset_index()\n",
    "\n",
    "tbl_week_aggnostd_two_cum_weighted_score.columns = ['_surrogate_key_two','_date_group','week_agg_cum_weighted_score']"
   ]
  },
  {
   "cell_type": "code",
   "execution_count": 8,
   "id": "1282775a",
   "metadata": {},
   "outputs": [],
   "source": [
    "#tbl_week_aggstd_one_cum_weighted_score\n",
    "#tbl_week_aggstd_one_weighted_score\n",
    "#tbl_week_aggnostd_two_cum_weighted_score\n",
    "#tbl_week_aggnostd_two_weighted_score\n",
    "#tbl_week_aggstd_one_cum_weighted_score.to_csv('DatasetForTempStat_aggstd_cum_score.csv',index=True,header=True)\n",
    "#tbl_week_aggstd_one_weighted_score.to_csv('DatasetForTempStat_aggstd_score.csv',index=True,header=True)\n",
    "#tbl_week_aggnostd_two_cum_weighted_score.to_csv('DatasetForTempStat_aggnostd_cum_score.csv',index=True,header=True)\n",
    "#tbl_week_aggnostd_two_weighted_score.to_csv('DatasetForTempStat_aggnostd_score.csv',index=True,header=True)"
   ]
  },
  {
   "cell_type": "code",
   "execution_count": null,
   "id": "ad55ef59",
   "metadata": {},
   "outputs": [],
   "source": []
  },
  {
   "cell_type": "code",
   "execution_count": 9,
   "id": "4c4dce67",
   "metadata": {},
   "outputs": [],
   "source": [
    "# denominator for final weighted scores\n",
    "studentInfo3_results_distinct_dash=studentInfo3_results_distinct\n",
    "studentInfo3_results_distinct_dash['_surrogate_key_one']=\\\n",
    "    studentInfo3_results_distinct_dash['id_student'].astype(str) + \\\n",
    "    studentInfo3_results_distinct_dash['final_result']+ \\\n",
    "    studentInfo3_results_distinct_dash['code_module']+ \\\n",
    "    studentInfo3_results_distinct_dash['code_presentation']\n",
    "\n",
    "tbl_week_aggstd_one_cum_weighted_score_dash = tbl_week_aggstd_one_cum_weighted_score.merge(studentInfo3_results_distinct_dash, how='left', \\\n",
    "                                                 left_on=[\"_surrogate_key_one\"], \\\n",
    "                                                 right_on=[\"_surrogate_key_one\"])\n",
    "\n",
    "tbl_week_aggstd_one_cum_weighted_score_dash.loc[tbl_week_aggstd_one_cum_weighted_score_dash['code_module'].isin(['AAA']), '_final_week_agg_cum_weighted_score'] = \\\n",
    "tbl_week_aggstd_one_cum_weighted_score_dash['week_agg_cum_weighted_score']/100\n",
    "\n",
    "tbl_week_aggstd_one_cum_weighted_score_dash.loc[tbl_week_aggstd_one_cum_weighted_score_dash['code_module'].isin(['BBB']), '_final_week_agg_cum_weighted_score'] = \\\n",
    "tbl_week_aggstd_one_cum_weighted_score_dash['week_agg_cum_weighted_score']/100\n",
    "\n",
    "tbl_week_aggstd_one_cum_weighted_score_dash.loc[tbl_week_aggstd_one_cum_weighted_score_dash['code_module'].isin(['CCC']), '_final_week_agg_cum_weighted_score'] = \\\n",
    "tbl_week_aggstd_one_cum_weighted_score_dash['week_agg_cum_weighted_score']/200\n",
    "\n",
    "tbl_week_aggstd_one_cum_weighted_score_dash.loc[tbl_week_aggstd_one_cum_weighted_score_dash['code_module'].isin(['DDD']), '_final_week_agg_cum_weighted_score'] = \\\n",
    "tbl_week_aggstd_one_cum_weighted_score_dash['week_agg_cum_weighted_score']/200\n",
    "\n",
    "tbl_week_aggstd_one_cum_weighted_score_dash.loc[tbl_week_aggstd_one_cum_weighted_score_dash['code_module'].isin(['EEE']), '_final_week_agg_cum_weighted_score'] = \\\n",
    "tbl_week_aggstd_one_cum_weighted_score_dash['week_agg_cum_weighted_score']/100\n",
    "\n",
    "tbl_week_aggstd_one_cum_weighted_score_dash.loc[tbl_week_aggstd_one_cum_weighted_score_dash['code_module'].isin(['FFF']), '_final_week_agg_cum_weighted_score'] = \\\n",
    "tbl_week_aggstd_one_cum_weighted_score_dash['week_agg_cum_weighted_score']/100\n",
    "\n",
    "tbl_week_aggstd_one_cum_weighted_score_dash.loc[tbl_week_aggstd_one_cum_weighted_score_dash['code_module'].isin(['GGG']), '_final_week_agg_cum_weighted_score'] = \\\n",
    "tbl_week_aggstd_one_cum_weighted_score_dash['week_agg_cum_weighted_score']/100\n",
    "\n"
   ]
  },
  {
   "cell_type": "code",
   "execution_count": 10,
   "id": "c81acfa8",
   "metadata": {},
   "outputs": [],
   "source": [
    "# dataset for full-fledged dashboard\n",
    "tbl_week_aggstd_one_cum_weighted_score_dash.to_csv('Dataset_Dashboard_Table1_aggstd_score.csv',index=True,header=True)"
   ]
  },
  {
   "cell_type": "code",
   "execution_count": 11,
   "id": "082cebd0",
   "metadata": {},
   "outputs": [],
   "source": [
    "#tbl_week_aggstd_one_cum_weighted_score.info()"
   ]
  },
  {
   "cell_type": "markdown",
   "id": "38bf8ff1",
   "metadata": {},
   "source": [
    "### Arbitrary Keys"
   ]
  },
  {
   "cell_type": "code",
   "execution_count": 12,
   "id": "f74211ca",
   "metadata": {},
   "outputs": [
    {
     "name": "stdout",
     "output_type": "stream",
     "text": [
      "-1\n",
      "87\n"
     ]
    }
   ],
   "source": [
    "# arbitrary keys\n",
    "# This is to plot the chart\n",
    "# for sizing when plotting the chart. not all subjects have the same duration\n",
    "print(tbl_week_aggstd_one_cum_weighted_score['_date_group'].min())\n",
    "print(tbl_week_aggstd_one_cum_weighted_score['_date_group'].max())"
   ]
  },
  {
   "cell_type": "code",
   "execution_count": 13,
   "id": "3430f706",
   "metadata": {},
   "outputs": [],
   "source": [
    "#import numpy as np\n",
    "#from pandas import DataFrame\n",
    "# create a list of _date_groups/ weeks for chart plotting purposes\n",
    "_date_group_base=np.arange(-3, 90, 1).tolist()\n",
    "\n",
    "tbl_date_group_base = DataFrame(_date_group_base,columns=['_date_group'])\n",
    "tbl_date_group_base['joinkey']=1\n",
    "#tbl_date_group_base.info()\n",
    "\n",
    "studentAssessment3_aggnostd_two_distinct=studentAssessment3[['_surrogate_key_two','code_module','code_presentation','final_result']]\n",
    "studentAssessment3_aggnostd_two_distinct=studentAssessment3_aggnostd_two_distinct.drop_duplicates()\n",
    "\n",
    "studentAssessment3_aggnostd_two_distinct['joinkey']=1\n",
    "studentAssessment3_aggnostd_two_distinct_alldategroup = \\\n",
    "pd.merge(studentAssessment3_aggnostd_two_distinct, tbl_date_group_base, on ='joinkey').drop('joinkey', 1)\n",
    "\n",
    "#print(studentAssessment3_aggnostd_two_distinct_alldategroup.info())\n",
    "#print(studentAssessment3_aggnostd_two_distinct.info())\n",
    "#print(tbl_date_group_base.info())"
   ]
  },
  {
   "cell_type": "code",
   "execution_count": 14,
   "id": "71f98bf0",
   "metadata": {},
   "outputs": [],
   "source": [
    "tbl_week_aggnostd_two_score2 = studentAssessment3_aggnostd_two_distinct_alldategroup\\\n",
    "    .merge(tbl_week_aggnostd_two_cum_weighted_score, how='left', \\\n",
    "           left_on=['_surrogate_key_two', '_date_group'], \\\n",
    "           right_on=['_surrogate_key_two', '_date_group']) \\\n",
    "    .merge(tbl_week_aggnostd_two_weighted_score, how='left', \\\n",
    "         left_on=['_surrogate_key_two', '_date_group'], \\\n",
    "         right_on=['_surrogate_key_two', '_date_group'])"
   ]
  },
  {
   "cell_type": "code",
   "execution_count": 15,
   "id": "f6d5d006",
   "metadata": {},
   "outputs": [],
   "source": [
    "# fill up the NAs\n",
    "# tbl_week_aggnostd_two_score['week_agg_weighted_score'].fillna(0)\n",
    "tbl_week_aggnostd_two_score2['week_agg_weighted_score'] = tbl_week_aggnostd_two_score2['week_agg_weighted_score'].replace(np.nan, 0)\n",
    "# tbl_week_aggnostd_two_score2"
   ]
  },
  {
   "cell_type": "code",
   "execution_count": 16,
   "id": "5adf5c84",
   "metadata": {},
   "outputs": [],
   "source": [
    "tbl_week_aggnostd_two_score3=tbl_week_aggnostd_two_score2[['_surrogate_key_two','_date_group','week_agg_weighted_score']]\n",
    "\n",
    "tbl_week_aggnostd_two_score4=\\\n",
    "    tbl_week_aggnostd_two_score3.sort_values(by = ['_surrogate_key_two','_date_group','week_agg_weighted_score'], \\\n",
    "                                               ascending = True, na_position = 'first')\n",
    "\n",
    "tbl_week_aggnostd_two_score4=\\\n",
    "    tbl_week_aggnostd_two_score4.groupby(['_surrogate_key_two','_date_group']).sum() \\\n",
    "      .groupby(level=0).cumsum().reset_index()\n",
    "\n",
    "tbl_week_aggnostd_two_score4.columns = ['_surrogate_key_two','_date_group','week_agg_cum_weighted_score2']"
   ]
  },
  {
   "cell_type": "code",
   "execution_count": 17,
   "id": "40ece992",
   "metadata": {},
   "outputs": [],
   "source": [
    "tbl_week_aggnostd_two_score5 = tbl_week_aggnostd_two_score2\\\n",
    "    .merge(tbl_week_aggnostd_two_score4, how='left', \\\n",
    "           left_on=['_surrogate_key_two', '_date_group'], \\\n",
    "           right_on=['_surrogate_key_two', '_date_group'])\n",
    "\n",
    "tbl_week_aggnostd_two_score5=tbl_week_aggnostd_two_score5.drop(['week_agg_cum_weighted_score'], axis = 1)\n",
    "tbl_week_aggnostd_two_score5['week_agg_cum_weighted_score']=tbl_week_aggnostd_two_score5['week_agg_cum_weighted_score2']\n",
    "tbl_week_aggnostd_two_score5=tbl_week_aggnostd_two_score5.drop(['week_agg_cum_weighted_score2'], axis = 1)\n",
    "#tbl_week_aggnostd_two_score5.to_csv('DatasetForTempStat_aggnostd_score_finaltable.csv',index=True,header=True)"
   ]
  },
  {
   "cell_type": "markdown",
   "id": "784a75a5",
   "metadata": {},
   "source": [
    "##### Count students"
   ]
  },
  {
   "cell_type": "code",
   "execution_count": 18,
   "id": "6b13efcb",
   "metadata": {},
   "outputs": [],
   "source": [
    "studentInfo3['_surrogate_key_one']=\\\n",
    "    studentInfo3['id_student'].astype(str) + \\\n",
    "    studentInfo3['final_result']+ \\\n",
    "    studentInfo3['code_module']+ \\\n",
    "    studentInfo3['code_presentation']\n",
    "studentInfo3['_surrogate_key_two']=\\\n",
    "    studentInfo3['final_result']+ \\\n",
    "    studentInfo3['code_module']+ \\\n",
    "    studentInfo3['code_presentation']"
   ]
  },
  {
   "cell_type": "code",
   "execution_count": 19,
   "id": "d0a51dc0",
   "metadata": {},
   "outputs": [],
   "source": [
    "tbl_studentInfo3_aggnostd_two_stdcount=studentInfo3.\\\n",
    "            set_index(['_surrogate_key_two']).\\\n",
    "            groupby(['_surrogate_key_two']).\\\n",
    "            agg({'id_student':['count']})\n",
    "\n",
    "tbl_studentInfo3_aggnostd_two_stdcount.columns = ['agg_student_count']\n",
    "tbl_studentInfo3_aggnostd_two_stdcount = tbl_studentInfo3_aggnostd_two_stdcount.reset_index()"
   ]
  },
  {
   "cell_type": "code",
   "execution_count": 20,
   "id": "053462c4",
   "metadata": {},
   "outputs": [],
   "source": [
    "tbl_week_aggnostd_two_score6 = tbl_week_aggnostd_two_score5\\\n",
    "    .merge(tbl_studentInfo3_aggnostd_two_stdcount, how='left', \\\n",
    "           left_on=['_surrogate_key_two'], \\\n",
    "           right_on=['_surrogate_key_two'])"
   ]
  },
  {
   "cell_type": "code",
   "execution_count": 21,
   "id": "28fee851",
   "metadata": {},
   "outputs": [],
   "source": [
    "tbl_week_aggnostd_two_score6['per_student_avg_week_agg_cum_weighted_score']=\\\n",
    "tbl_week_aggnostd_two_score6['week_agg_cum_weighted_score']/\\\n",
    "tbl_week_aggnostd_two_score6['agg_student_count']\n",
    "#tbl_week_aggnostd_two_score6"
   ]
  },
  {
   "cell_type": "markdown",
   "id": "6408521d",
   "metadata": {},
   "source": [
    "##### Weighted Score Total Denominator Value\n",
    "* AAA 100\n",
    "* BBB 100\n",
    "* CCC 200\n",
    "* DDD 200\n",
    "* EEE 100\n",
    "* FFF 100\n",
    "* GGG ZERO"
   ]
  },
  {
   "cell_type": "code",
   "execution_count": 22,
   "id": "555b1b0d",
   "metadata": {},
   "outputs": [],
   "source": [
    "# division with the denominator forming the final weighted score\n",
    "\n",
    "tbl_week_aggnostd_two_score6.loc[tbl_week_aggnostd_two_score6['code_module'].isin(['AAA']), 'per_student_avg_week_agg_cum_weighted_score2'] = \\\n",
    "tbl_week_aggnostd_two_score6['week_agg_cum_weighted_score']/\\\n",
    "tbl_week_aggnostd_two_score6['agg_student_count']/100\n",
    "\n",
    "tbl_week_aggnostd_two_score6.loc[tbl_week_aggnostd_two_score6['code_module'].isin(['BBB']), 'per_student_avg_week_agg_cum_weighted_score2'] = \\\n",
    "tbl_week_aggnostd_two_score6['week_agg_cum_weighted_score']/\\\n",
    "tbl_week_aggnostd_two_score6['agg_student_count']/100\n",
    "\n",
    "tbl_week_aggnostd_two_score6.loc[tbl_week_aggnostd_two_score6['code_module'].isin(['CCC']), 'per_student_avg_week_agg_cum_weighted_score2'] = \\\n",
    "tbl_week_aggnostd_two_score6['week_agg_cum_weighted_score']/\\\n",
    "tbl_week_aggnostd_two_score6['agg_student_count']/200\n",
    "\n",
    "tbl_week_aggnostd_two_score6.loc[tbl_week_aggnostd_two_score6['code_module'].isin(['DDD']), 'per_student_avg_week_agg_cum_weighted_score2'] = \\\n",
    "tbl_week_aggnostd_two_score6['week_agg_cum_weighted_score']/\\\n",
    "tbl_week_aggnostd_two_score6['agg_student_count']/200\n",
    "\n",
    "tbl_week_aggnostd_two_score6.loc[tbl_week_aggnostd_two_score6['code_module'].isin(['EEE']), 'per_student_avg_week_agg_cum_weighted_score2'] = \\\n",
    "tbl_week_aggnostd_two_score6['week_agg_cum_weighted_score']/\\\n",
    "tbl_week_aggnostd_two_score6['agg_student_count']/100\n",
    "\n",
    "tbl_week_aggnostd_two_score6.loc[tbl_week_aggnostd_two_score6['code_module'].isin(['FFF']), 'per_student_avg_week_agg_cum_weighted_score2'] = \\\n",
    "tbl_week_aggnostd_two_score6['week_agg_cum_weighted_score']/\\\n",
    "tbl_week_aggnostd_two_score6['agg_student_count']/100\n",
    "\n",
    "tbl_week_aggnostd_two_score6.loc[tbl_week_aggnostd_two_score6['code_module'].isin(['GGG']), 'per_student_avg_week_agg_cum_weighted_score2'] = \\\n",
    "tbl_week_aggnostd_two_score6['week_agg_cum_weighted_score']/\\\n",
    "tbl_week_aggnostd_two_score6['agg_student_count']/100"
   ]
  },
  {
   "cell_type": "code",
   "execution_count": 23,
   "id": "64bfb6ef",
   "metadata": {},
   "outputs": [],
   "source": [
    "tbl_week_aggnostd_two_score6=tbl_week_aggnostd_two_score6.drop(['per_student_avg_week_agg_cum_weighted_score'], axis = 1)\n",
    "tbl_week_aggnostd_two_score6['per_student_avg_week_agg_cum_weighted_score']=tbl_week_aggnostd_two_score6['per_student_avg_week_agg_cum_weighted_score2']\n",
    "tbl_week_aggnostd_two_score6=tbl_week_aggnostd_two_score6.drop(['per_student_avg_week_agg_cum_weighted_score2'], axis = 1)\n",
    "\n",
    "# store as CSV for dashboard\n",
    "# tbl_week_aggnostd_two_score6.to_csv('DatasetForStat_aggnostd_score_finaltable.csv',index=True,header=True)\n",
    "tbl_week_aggnostd_two_score6.to_csv('Dataset_Dashboard_Table1_aggnostd_score.csv',index=True,header=True) #added"
   ]
  },
  {
   "cell_type": "code",
   "execution_count": 24,
   "id": "8cebbab5",
   "metadata": {},
   "outputs": [
    {
     "data": {
      "text/plain": [
       "[<matplotlib.lines.Line2D at 0x1af0d939ca0>]"
      ]
     },
     "execution_count": 24,
     "metadata": {},
     "output_type": "execute_result"
    },
    {
     "data": {
      "image/png": "[encoded data removed]",
      "text/plain": [
       "<Figure size 432x288 with 1 Axes>"
      ]
     },
     "metadata": {
      "needs_background": "light"
     },
     "output_type": "display_data"
    }
   ],
   "source": [
    "# import matplotlib.pyplot as plt\n",
    "X_PassEEE2014J= tbl_week_aggnostd_two_score6[(tbl_week_aggnostd_two_score6['_surrogate_key_two'].isin(['PassEEE2014J']))]\n",
    "X_FailEEE2014J= tbl_week_aggnostd_two_score6[(tbl_week_aggnostd_two_score6['_surrogate_key_two'].isin(['FailEEE2014J']))]\n",
    "X_DistinctionEEE2014J= tbl_week_aggnostd_two_score6[(tbl_week_aggnostd_two_score6['_surrogate_key_two'].isin(['DistinctionEEE2014J']))]\n",
    "X_WithdrawnEEE2014J= tbl_week_aggnostd_two_score6[(tbl_week_aggnostd_two_score6['_surrogate_key_two'].isin(['WithdrawnEEE2014J']))]\n",
    "\n",
    "plt.plot(X_PassEEE2014J['_date_group'], X_PassEEE2014J['per_student_avg_week_agg_cum_weighted_score'])\n",
    "plt.plot(X_FailEEE2014J['_date_group'], X_FailEEE2014J['per_student_avg_week_agg_cum_weighted_score'])\n",
    "plt.plot(X_DistinctionEEE2014J['_date_group'], X_DistinctionEEE2014J['per_student_avg_week_agg_cum_weighted_score'])\n",
    "plt.plot(X_WithdrawnEEE2014J['_date_group'], X_WithdrawnEEE2014J['per_student_avg_week_agg_cum_weighted_score'])\n",
    "# plt.plot(_date_group, np.cos(x));"
   ]
  },
  {
   "cell_type": "markdown",
   "id": "6eb6f7f1",
   "metadata": {},
   "source": [
    "### XXXXXXXXXXXXXXXXXXXXXXXXXXXXXXXXXXXXXX\n",
    "### CLICKS"
   ]
  },
  {
   "cell_type": "markdown",
   "id": "82b19185",
   "metadata": {},
   "source": [
    "##### Repeat the Same for Clicks"
   ]
  },
  {
   "cell_type": "code",
   "execution_count": 25,
   "id": "cd813335",
   "metadata": {},
   "outputs": [],
   "source": [
    "# import tables\n",
    "studentVle = pd.read_csv('studentVle.csv')\n",
    "studentVle2 = studentVle\n",
    "vle = pd.read_csv('vle.csv')\n",
    "# merge vle with studentVle\n",
    "studentVle3 = studentVle2.merge(vle, how='left', \\\n",
    "                                                 left_on=[\"code_module\", \"code_presentation\",\"id_site\"], \\\n",
    "                                                 right_on=[\"code_module\", \"code_presentation\",\"id_site\"])\n",
    "#studentVle3.to_csv('studentVle3.csv',index=True,header=True)"
   ]
  },
  {
   "cell_type": "code",
   "execution_count": 26,
   "id": "21db466f",
   "metadata": {},
   "outputs": [],
   "source": [
    "# add _date_groups/weeks\n",
    "studentVle3['_date_group'] = pd.Series([], dtype=float)\n",
    "studentVle3['_date_group'] = studentVle3['date']\n",
    "studentVle3.loc[studentVle3['date'] <0, '_date_group'] = studentVle3['_date_group'].apply(lambda x: math.ceil(float(x/7)))\n",
    "studentVle3.loc[studentVle3['date'] >=0, '_date_group'] = studentVle3['_date_group'].apply(lambda x: math.floor(float((x/7)+1)))"
   ]
  },
  {
   "cell_type": "code",
   "execution_count": 27,
   "id": "3168cd15",
   "metadata": {},
   "outputs": [
    {
     "name": "stdout",
     "output_type": "stream",
     "text": [
      "39\n",
      "-3\n"
     ]
    }
   ],
   "source": [
    "# for sizing when plotting the chart. not all subjects have the same duration\n",
    "print(studentVle3['_date_group'].max())\n",
    "print(studentVle3['_date_group'].min())"
   ]
  },
  {
   "cell_type": "code",
   "execution_count": 28,
   "id": "ba6cf39c",
   "metadata": {},
   "outputs": [],
   "source": [
    "studentInfo3_results_distinct=studentInfo3[['id_student','code_module','code_presentation','final_result']]\n",
    "studentInfo3_results_distinct=studentInfo3_results_distinct.drop_duplicates()\n",
    "\n",
    "studentVle4 = studentVle3.merge(studentInfo3_results_distinct, how='left', \\\n",
    "                                                 left_on=[\"id_student\",\"code_module\", \"code_presentation\"], \\\n",
    "                                                 right_on=[\"id_student\",\"code_module\", \"code_presentation\"])\n",
    "\n",
    "studentVle4['_surrogate_key_one']=\\\n",
    "    studentVle4['id_student'].astype(str) + \\\n",
    "    studentVle4['final_result']+ \\\n",
    "    studentVle4['code_module']+ \\\n",
    "    studentVle4['code_presentation']\n",
    "studentVle4['_surrogate_key_two']=\\\n",
    "    studentVle4['final_result']+ \\\n",
    "    studentVle4['code_module']+ \\\n",
    "    studentVle4['code_presentation']"
   ]
  },
  {
   "cell_type": "code",
   "execution_count": 29,
   "id": "abebe158",
   "metadata": {},
   "outputs": [],
   "source": [
    "tbl_week_aggstd_sum_click=studentVle4[['_surrogate_key_one','_date_group','sum_click']]\n",
    "\n",
    "tbl_week_aggstd_one_cum_sum_click=\\\n",
    "    tbl_week_aggstd_sum_click.sort_values(by = ['_surrogate_key_one','_date_group','sum_click'], \\\n",
    "                                               ascending = True, na_position = 'first')\n",
    "\n",
    "tbl_week_aggstd_one_cum_sum_click=\\\n",
    "    tbl_week_aggstd_one_cum_sum_click.groupby(['_surrogate_key_one','_date_group']).sum() \\\n",
    "      .groupby(level=0).cumsum().reset_index()\n",
    "\n",
    "tbl_week_aggstd_one_cum_sum_click.columns = ['_surrogate_key_one','_date_group','week_agg_cum_sum_click']\n",
    "\n",
    "#########################################################\n",
    "tbl_week_aggstd_one_sum_click=tbl_week_aggstd_sum_click.\\\n",
    "            set_index(['_surrogate_key_one','_date_group']).\\\n",
    "            groupby(['_surrogate_key_one','_date_group']).\\\n",
    "            agg({'sum_click':['sum']})\n",
    "tbl_week_aggstd_one_sum_click.columns = ['week_agg_sum_click']\n",
    "tbl_week_aggstd_one_sum_click = tbl_week_aggstd_one_sum_click.reset_index()"
   ]
  },
  {
   "cell_type": "code",
   "execution_count": 30,
   "id": "96c8619c",
   "metadata": {},
   "outputs": [],
   "source": [
    "tbl_week_aggnostd2_two_sum_click=studentVle4[['_surrogate_key_two','_date_group','sum_click']]\n",
    "\n",
    "tbl_week_aggnostd_two_sum_click=tbl_week_aggnostd2_two_sum_click.\\\n",
    "            set_index(['_surrogate_key_two','_date_group']).\\\n",
    "            groupby(['_surrogate_key_two','_date_group']).\\\n",
    "            agg({'sum_click':['sum']})\n",
    "tbl_week_aggnostd_two_sum_click.columns = ['week_agg_sum_click']\n",
    "tbl_week_aggnostd_two_sum_click = tbl_week_aggnostd_two_sum_click.reset_index()\n",
    "\n",
    "######################################\n",
    "tbl_week_aggnostd_two_cum_sum_click=\\\n",
    "    tbl_week_aggnostd_two_sum_click.sort_values(by = ['_surrogate_key_two','_date_group','week_agg_sum_click'], \\\n",
    "                                               ascending = True, na_position = 'first')\n",
    "\n",
    "tbl_week_aggnostd_two_cum_sum_click=\\\n",
    "    tbl_week_aggnostd_two_cum_sum_click.groupby(['_surrogate_key_two','_date_group']).sum() \\\n",
    "      .groupby(level=0).cumsum().reset_index()\n",
    "\n",
    "tbl_week_aggnostd_two_cum_sum_click.columns = ['_surrogate_key_two','_date_group','week_agg_cum_sum_click']"
   ]
  },
  {
   "cell_type": "code",
   "execution_count": 31,
   "id": "3cc18bb0",
   "metadata": {},
   "outputs": [],
   "source": [
    "#tbl_week_aggstd_one_cum_sum_click\n",
    "#tbl_week_aggstd_one_sum_click\n",
    "#tbl_week_aggnostd_two_cum_sum_click\n",
    "#tbl_week_aggnostd_two_sum_click\n",
    "\n",
    "# store a csv for Dashboard\n",
    "tbl_week_aggstd_one_cum_sum_click.to_csv('Dataset_Dashboard_Table1_aggstd_click.csv',index=True,header=True)\n",
    "#tbl_week_aggstd_one_cum_sum_click.to_csv('DatasetForTempStat_aggstd_cum_click.csv',index=True,header=True)\n",
    "#tbl_week_aggstd_one_sum_click.to_csv('DatasetForTempStat_aggstd_click.csv',index=True,header=True)\n",
    "#tbl_week_aggnostd_two_cum_sum_click.to_csv('DatasetForTempStat_aggnostd_cum_click.csv',index=True,header=True)\n",
    "#tbl_week_aggnostd_two_sum_click.to_csv('DatasetForTempStat_aggnostd_click.csv',index=True,header=True)"
   ]
  },
  {
   "cell_type": "code",
   "execution_count": null,
   "id": "b848e9cd",
   "metadata": {},
   "outputs": [],
   "source": []
  },
  {
   "cell_type": "code",
   "execution_count": null,
   "id": "dcaf3d35",
   "metadata": {},
   "outputs": [],
   "source": []
  },
  {
   "cell_type": "code",
   "execution_count": 32,
   "id": "52c32561",
   "metadata": {},
   "outputs": [
    {
     "name": "stdout",
     "output_type": "stream",
     "text": [
      "<class 'pandas.core.frame.DataFrame'>\n",
      "RangeIndex: 627505 entries, 0 to 627504\n",
      "Data columns (total 3 columns):\n",
      " #   Column                  Non-Null Count   Dtype \n",
      "---  ------                  --------------   ----- \n",
      " 0   _surrogate_key_one      627505 non-null  object\n",
      " 1   _date_group             627505 non-null  int64 \n",
      " 2   week_agg_cum_sum_click  627505 non-null  int64 \n",
      "dtypes: int64(2), object(1)\n",
      "memory usage: 14.4+ MB\n"
     ]
    }
   ],
   "source": [
    "tbl_week_aggstd_one_cum_sum_click.info()"
   ]
  },
  {
   "cell_type": "code",
   "execution_count": 33,
   "id": "e8bda92a",
   "metadata": {},
   "outputs": [
    {
     "name": "stdout",
     "output_type": "stream",
     "text": [
      "-3\n",
      "39\n"
     ]
    }
   ],
   "source": [
    "print(tbl_week_aggstd_one_cum_sum_click['_date_group'].min())\n",
    "print(tbl_week_aggstd_one_cum_sum_click['_date_group'].max())"
   ]
  },
  {
   "cell_type": "code",
   "execution_count": 34,
   "id": "093832ee",
   "metadata": {},
   "outputs": [],
   "source": [
    "import numpy as np\n",
    "from pandas import DataFrame\n",
    "_date_group_base2=np.arange(-5, 45, 1).tolist()\n",
    "\n",
    "tbl_date_group_base2 = DataFrame(_date_group_base2,columns=['_date_group'])\n",
    "tbl_date_group_base2['joinkey']=1\n",
    "#tbl_date_group_base2.info()\n",
    "\n",
    "studentVle4_aggnostd_two_distinct=studentVle4[['_surrogate_key_two','code_module','code_presentation','final_result']]\n",
    "studentVle4_aggnostd_two_distinct=studentVle4_aggnostd_two_distinct.drop_duplicates()\n",
    "\n",
    "studentVle4_aggnostd_two_distinct['joinkey']=1\n",
    "studentVle4_aggnostd_two_distinct_alldategroup = \\\n",
    "pd.merge(studentVle4_aggnostd_two_distinct, tbl_date_group_base2, on ='joinkey').drop('joinkey', 1)\n",
    "\n",
    "#print(studentVle4_aggnostd_two_distinct_alldategroup.info())\n",
    "#print(studentVle4_aggnostd_two_distinct.info())\n",
    "#print(tbl_date_group_base2.info())"
   ]
  },
  {
   "cell_type": "code",
   "execution_count": 35,
   "id": "5adfc004",
   "metadata": {},
   "outputs": [],
   "source": [
    "tbl_week_aggnostd_two_click2 = studentVle4_aggnostd_two_distinct_alldategroup\\\n",
    "    .merge(tbl_week_aggnostd_two_cum_sum_click, how='left', \\\n",
    "           left_on=['_surrogate_key_two', '_date_group'], \\\n",
    "           right_on=['_surrogate_key_two', '_date_group']) \\\n",
    "    .merge(tbl_week_aggnostd_two_sum_click, how='left', \\\n",
    "         left_on=['_surrogate_key_two', '_date_group'], \\\n",
    "         right_on=['_surrogate_key_two', '_date_group'])"
   ]
  },
  {
   "cell_type": "code",
   "execution_count": 36,
   "id": "9d601186",
   "metadata": {},
   "outputs": [],
   "source": [
    "#tbl_week_aggnostd_two_click2['week_agg_sum_click'].fillna(0)\n",
    "tbl_week_aggnostd_two_click2['week_agg_sum_click'] = tbl_week_aggnostd_two_click2['week_agg_sum_click'].replace(np.nan, 0)\n",
    "#tbl_week_aggnostd_two_click2"
   ]
  },
  {
   "cell_type": "code",
   "execution_count": 37,
   "id": "0a904a95",
   "metadata": {},
   "outputs": [],
   "source": [
    "tbl_week_aggnostd_two_click3=tbl_week_aggnostd_two_click2[['_surrogate_key_two','_date_group','week_agg_sum_click']]\n",
    "\n",
    "tbl_week_aggnostd_two_click4=\\\n",
    "    tbl_week_aggnostd_two_click3.sort_values(by = ['_surrogate_key_two','_date_group','week_agg_sum_click'], \\\n",
    "                                               ascending = True, na_position = 'first')\n",
    "\n",
    "tbl_week_aggnostd_two_click4=\\\n",
    "    tbl_week_aggnostd_two_click4.groupby(['_surrogate_key_two','_date_group']).sum() \\\n",
    "      .groupby(level=0).cumsum().reset_index()\n",
    "\n",
    "tbl_week_aggnostd_two_click4.columns = ['_surrogate_key_two','_date_group','week_agg_cum_sum_click2']"
   ]
  },
  {
   "cell_type": "code",
   "execution_count": 38,
   "id": "0fc9592c",
   "metadata": {},
   "outputs": [],
   "source": [
    "tbl_week_aggnostd_two_click5 = tbl_week_aggnostd_two_click2\\\n",
    "    .merge(tbl_week_aggnostd_two_click4, how='left', \\\n",
    "           left_on=['_surrogate_key_two', '_date_group'], \\\n",
    "           right_on=['_surrogate_key_two', '_date_group'])\n",
    "\n",
    "tbl_week_aggnostd_two_click5=tbl_week_aggnostd_two_click5.drop(['week_agg_cum_sum_click'], axis = 1)\n",
    "tbl_week_aggnostd_two_click5['week_agg_cum_sum_click']=tbl_week_aggnostd_two_click5['week_agg_cum_sum_click2']\n",
    "tbl_week_aggnostd_two_click5=tbl_week_aggnostd_two_click5.drop(['week_agg_cum_sum_click2'], axis = 1)\n",
    "#tbl_week_aggnostd_two_click5.to_csv('DatasetForTempStat_aggnostd_click_finaltable.csv',index=True,header=True)"
   ]
  },
  {
   "cell_type": "code",
   "execution_count": 39,
   "id": "cc8d7996",
   "metadata": {},
   "outputs": [],
   "source": [
    "tbl_week_aggnostd_two_click6 = tbl_week_aggnostd_two_click5\\\n",
    "    .merge(tbl_studentInfo3_aggnostd_two_stdcount, how='left', \\\n",
    "           left_on=['_surrogate_key_two'], \\\n",
    "           right_on=['_surrogate_key_two'])\n",
    "\n",
    "tbl_week_aggnostd_two_click6['per_student_avg_week_agg_cum_sum_click']=\\\n",
    "tbl_week_aggnostd_two_click6['week_agg_cum_sum_click']/\\\n",
    "tbl_week_aggnostd_two_click6['agg_student_count']\n",
    "#tbl_week_aggnostd_two_click6"
   ]
  },
  {
   "cell_type": "code",
   "execution_count": 40,
   "id": "b8222809",
   "metadata": {},
   "outputs": [],
   "source": [
    "#tbl_week_aggnostd_two_click6.to_csv('DatasetForStat_aggnostd_click_finaltable.csv',index=True,header=True)\n",
    "# store in csv for dashboard\n",
    "tbl_week_aggnostd_two_click6.to_csv('Dataset_Dashboard_Table1_aggnostd_click.csv',index=True,header=True) #added"
   ]
  },
  {
   "cell_type": "code",
   "execution_count": 41,
   "id": "f270395b",
   "metadata": {},
   "outputs": [
    {
     "data": {
      "text/plain": [
       "[<matplotlib.lines.Line2D at 0x1b0190f4c40>]"
      ]
     },
     "execution_count": 41,
     "metadata": {},
     "output_type": "execute_result"
    },
    {
     "data": {
      "image/png": "[encoded data removed]",
      "text/plain": [
       "<Figure size 432x288 with 1 Axes>"
      ]
     },
     "metadata": {
      "needs_background": "light"
     },
     "output_type": "display_data"
    }
   ],
   "source": [
    "#import matplotlib.pyplot as plt\n",
    "Y_PassEEE2014J= tbl_week_aggnostd_two_click6[(tbl_week_aggnostd_two_click6['_surrogate_key_two'].isin(['PassEEE2014J']))]\n",
    "Y_FailEEE2014J= tbl_week_aggnostd_two_click6[(tbl_week_aggnostd_two_click6['_surrogate_key_two'].isin(['FailEEE2014J']))]\n",
    "Y_DistinctionEEE2014J= tbl_week_aggnostd_two_click6[(tbl_week_aggnostd_two_click6['_surrogate_key_two'].isin(['DistinctionEEE2014J']))]\n",
    "Y_WithdrawnEEE2014J= tbl_week_aggnostd_two_click6[(tbl_week_aggnostd_two_click6['_surrogate_key_two'].isin(['WithdrawnEEE2014J']))]\n",
    "\n",
    "plt.plot(Y_PassEEE2014J['_date_group'], Y_PassEEE2014J['per_student_avg_week_agg_cum_sum_click'])\n",
    "plt.plot(Y_FailEEE2014J['_date_group'], Y_FailEEE2014J['per_student_avg_week_agg_cum_sum_click'])\n",
    "plt.plot(Y_DistinctionEEE2014J['_date_group'], Y_DistinctionEEE2014J['per_student_avg_week_agg_cum_sum_click'])\n",
    "plt.plot(Y_WithdrawnEEE2014J['_date_group'], Y_WithdrawnEEE2014J['per_student_avg_week_agg_cum_sum_click'])\n",
    "#plt.plot(_date_group, np.cos(x));"
   ]
  },
  {
   "cell_type": "markdown",
   "id": "56509153",
   "metadata": {},
   "source": [
    "# STATS homoscedasticity VS heteroskedasticity "
   ]
  },
  {
   "cell_type": "markdown",
   "id": "cea686bb",
   "metadata": {},
   "source": [
    "##### SCORE"
   ]
  },
  {
   "cell_type": "code",
   "execution_count": 42,
   "id": "ddf5f31a",
   "metadata": {},
   "outputs": [],
   "source": [
    "#X_PassEEE2014J.to_csv('X_PassEEE2014J.csv',index=True,header=True)\n",
    "#X_FailEEE2014J.to_csv('X_FailEEE2014J.csv',index=True,header=True)\n",
    "#X_DistinctionEEE2014J.to_csv('X_DistinctionEEE2014J.csv',index=True,header=True)\n",
    "#X_WithdrawnEEE2014J.to_csv('X_WithdrawnEEE2014J.csv',index=True,header=True)\n",
    "\n",
    "#Y_PassEEE2014J.to_csv('Y_PassEEE2014J.csv',index=True,header=True)\n",
    "#Y_FailEEE2014J.to_csv('Y_FailEEE2014J.csv',index=True,header=True)\n",
    "#Y_DistinctionEEE2014J.to_csv('Y_DistinctionEEE2014J.csv',index=True,header=True)\n",
    "#Y_WithdrawnEEE2014J.to_csv('Y_WithdrawnEEE2014J.csv',index=True,header=True)"
   ]
  },
  {
   "cell_type": "code",
   "execution_count": 43,
   "id": "3b256c36",
   "metadata": {},
   "outputs": [],
   "source": [
    "Z1_PassEEE2014J=X_PassEEE2014J[['_date_group','per_student_avg_week_agg_cum_weighted_score']]"
   ]
  },
  {
   "cell_type": "code",
   "execution_count": 44,
   "id": "b5c5ae2f",
   "metadata": {},
   "outputs": [
    {
     "data": {
      "text/html": [
       "<div>\n",
       "<style scoped>\n",
       "    .dataframe tbody tr th:only-of-type {\n",
       "        vertical-align: middle;\n",
       "    }\n",
       "\n",
       "    .dataframe tbody tr th {\n",
       "        vertical-align: top;\n",
       "    }\n",
       "\n",
       "    .dataframe thead th {\n",
       "        text-align: right;\n",
       "    }\n",
       "</style>\n",
       "<table border=\"1\" class=\"dataframe\">\n",
       "  <thead>\n",
       "    <tr style=\"text-align: right;\">\n",
       "      <th></th>\n",
       "      <th>_date_group</th>\n",
       "      <th>per_student_avg_week_agg_cum_weighted_score</th>\n",
       "    </tr>\n",
       "  </thead>\n",
       "  <tbody>\n",
       "    <tr>\n",
       "      <th>5208</th>\n",
       "      <td>-3</td>\n",
       "      <td>0.000000</td>\n",
       "    </tr>\n",
       "    <tr>\n",
       "      <th>5209</th>\n",
       "      <td>-2</td>\n",
       "      <td>0.000000</td>\n",
       "    </tr>\n",
       "    <tr>\n",
       "      <th>5210</th>\n",
       "      <td>-1</td>\n",
       "      <td>0.000000</td>\n",
       "    </tr>\n",
       "    <tr>\n",
       "      <th>5211</th>\n",
       "      <td>0</td>\n",
       "      <td>0.391651</td>\n",
       "    </tr>\n",
       "    <tr>\n",
       "      <th>5212</th>\n",
       "      <td>1</td>\n",
       "      <td>0.391651</td>\n",
       "    </tr>\n",
       "    <tr>\n",
       "      <th>...</th>\n",
       "      <td>...</td>\n",
       "      <td>...</td>\n",
       "    </tr>\n",
       "    <tr>\n",
       "      <th>5296</th>\n",
       "      <td>85</td>\n",
       "      <td>79.243795</td>\n",
       "    </tr>\n",
       "    <tr>\n",
       "      <th>5297</th>\n",
       "      <td>86</td>\n",
       "      <td>79.243795</td>\n",
       "    </tr>\n",
       "    <tr>\n",
       "      <th>5298</th>\n",
       "      <td>87</td>\n",
       "      <td>79.243795</td>\n",
       "    </tr>\n",
       "    <tr>\n",
       "      <th>5299</th>\n",
       "      <td>88</td>\n",
       "      <td>79.243795</td>\n",
       "    </tr>\n",
       "    <tr>\n",
       "      <th>5300</th>\n",
       "      <td>89</td>\n",
       "      <td>79.243795</td>\n",
       "    </tr>\n",
       "  </tbody>\n",
       "</table>\n",
       "<p>93 rows × 2 columns</p>\n",
       "</div>"
      ],
      "text/plain": [
       "      _date_group  per_student_avg_week_agg_cum_weighted_score\n",
       "5208           -3                                     0.000000\n",
       "5209           -2                                     0.000000\n",
       "5210           -1                                     0.000000\n",
       "5211            0                                     0.391651\n",
       "5212            1                                     0.391651\n",
       "...           ...                                          ...\n",
       "5296           85                                    79.243795\n",
       "5297           86                                    79.243795\n",
       "5298           87                                    79.243795\n",
       "5299           88                                    79.243795\n",
       "5300           89                                    79.243795\n",
       "\n",
       "[93 rows x 2 columns]"
      ]
     },
     "execution_count": 44,
     "metadata": {},
     "output_type": "execute_result"
    }
   ],
   "source": [
    "Z1_PassEEE2014J"
   ]
  },
  {
   "cell_type": "code",
   "execution_count": 45,
   "id": "98825cf8",
   "metadata": {},
   "outputs": [],
   "source": [
    "#import pandas as pd\n",
    "#import numpy as np\n",
    "#from matplotlib import pyplot as plt\n",
    "#import statsmodels.api as sm\n",
    "#import statsmodels.formula.api as smf\n",
    "#from patsy import dmatrices\n",
    "#from statsmodels.stats.diagnostic import het_white\n",
    "#from statsmodels.compat import lzip"
   ]
  },
  {
   "cell_type": "code",
   "execution_count": 46,
   "id": "fa406c31",
   "metadata": {},
   "outputs": [
    {
     "data": {
      "image/png": "[encoded data removed]",
      "text/plain": [
       "<Figure size 432x288 with 1 Axes>"
      ]
     },
     "metadata": {
      "needs_background": "light"
     },
     "output_type": "display_data"
    }
   ],
   "source": [
    "fig = plt.figure()\n",
    "fig.suptitle('per_student_avg_week_agg_cum_weighted_score')\n",
    "plt.xlabel('_date_group')\n",
    "plt.ylabel('per_student_avg_week_agg_cum_weighted_score')\n",
    "actual, = plt.plot(Z1_PassEEE2014J['_date_group'], Z1_PassEEE2014J['per_student_avg_week_agg_cum_weighted_score'], 'ro-', label='Pass')\n",
    "plt.legend(handles=[actual])\n",
    "plt.show()"
   ]
  },
  {
   "cell_type": "code",
   "execution_count": 47,
   "id": "aba54079",
   "metadata": {},
   "outputs": [],
   "source": [
    "expr = 'per_student_avg_week_agg_cum_weighted_score ~ _date_group'\n",
    "olsr_results = smf.ols(expr, Z1_PassEEE2014J).fit()"
   ]
  },
  {
   "cell_type": "code",
   "execution_count": 48,
   "id": "7a0fa453",
   "metadata": {},
   "outputs": [
    {
     "data": {
      "image/png": "[encoded data removed]",
      "text/plain": [
       "<Figure size 432x288 with 1 Axes>"
      ]
     },
     "metadata": {
      "needs_background": "light"
     },
     "output_type": "display_data"
    }
   ],
   "source": [
    "fig = plt.figure()\n",
    "fig.suptitle('Residual errors against Time_Period')\n",
    "plt.xlabel('_date_group')\n",
    "plt.ylabel('Residual Errors')\n",
    "actual, = plt.plot(Z1_PassEEE2014J['_date_group'], olsr_results.resid, 'go-', label='Residual Errors')\n",
    "plt.legend(handles=[actual])\n",
    "plt.show()"
   ]
  },
  {
   "cell_type": "code",
   "execution_count": 49,
   "id": "5b99bf51",
   "metadata": {},
   "outputs": [
    {
     "name": "stdout",
     "output_type": "stream",
     "text": [
      "                            OLS Regression Results                            \n",
      "==============================================================================\n",
      "Dep. Variable:               SQ_RESID   R-squared:                       0.364\n",
      "Model:                            OLS   Adj. R-squared:                  0.350\n",
      "Method:                 Least Squares   F-statistic:                     25.81\n",
      "Date:                Tue, 19 Oct 2021   Prob (F-statistic):           1.38e-09\n",
      "Time:                        14:53:32   Log-Likelihood:                -639.82\n",
      "No. Observations:                  93   AIC:                             1286.\n",
      "Df Residuals:                      90   BIC:                             1293.\n",
      "Df Model:                           2                                         \n",
      "Covariance Type:            nonrobust                                         \n",
      "=================================================================================\n",
      "                    coef    std err          t      P>|t|      [0.025      0.975]\n",
      "---------------------------------------------------------------------------------\n",
      "Intercept       688.0355     63.866     10.773      0.000     561.155     814.916\n",
      "_date_group     -17.9568      3.436     -5.226      0.000     -24.783     -11.130\n",
      "SQ_date_group     0.1427      0.038      3.708      0.000       0.066       0.219\n",
      "==============================================================================\n",
      "Omnibus:                        0.009   Durbin-Watson:                   0.192\n",
      "Prob(Omnibus):                  0.995   Jarque-Bera (JB):                0.122\n",
      "Skew:                           0.015   Prob(JB):                        0.941\n",
      "Kurtosis:                       2.825   Cond. No.                     9.06e+03\n",
      "==============================================================================\n",
      "\n",
      "Notes:\n",
      "[1] Standard Errors assume that the covariance matrix of the errors is correctly specified.\n",
      "[2] The condition number is large, 9.06e+03. This might indicate that there are\n",
      "strong multicollinearity or other numerical problems.\n"
     ]
    },
    {
     "name": "stderr",
     "output_type": "stream",
     "text": [
      "<ipython-input-49-4a6a2aea329e>:3: SettingWithCopyWarning: \n",
      "A value is trying to be set on a copy of a slice from a DataFrame.\n",
      "Try using .loc[row_indexer,col_indexer] = value instead\n",
      "\n",
      "See the caveats in the documentation: https://pandas.pydata.org/pandas-docs/stable/user_guide/indexing.html#returning-a-view-versus-a-copy\n",
      "  Z1_PassEEE2014J['SQ_RESID'] = np.power(olsr_results.resid, 2.0)\n",
      "<ipython-input-49-4a6a2aea329e>:4: SettingWithCopyWarning: \n",
      "A value is trying to be set on a copy of a slice from a DataFrame.\n",
      "Try using .loc[row_indexer,col_indexer] = value instead\n",
      "\n",
      "See the caveats in the documentation: https://pandas.pydata.org/pandas-docs/stable/user_guide/indexing.html#returning-a-view-versus-a-copy\n",
      "  Z1_PassEEE2014J['SQ_date_group'] = np.power(Z1_PassEEE2014J['_date_group'], 2.0)\n"
     ]
    }
   ],
   "source": [
    "# Run the White test of heteroscedasticity on the residual errors\n",
    "\n",
    "Z1_PassEEE2014J['SQ_RESID'] = np.power(olsr_results.resid, 2.0)\n",
    "Z1_PassEEE2014J['SQ_date_group'] = np.power(Z1_PassEEE2014J['_date_group'], 2.0)\n",
    "\n",
    "aux_expr = 'SQ_RESID ~ _date_group + SQ_date_group'\n",
    "y, X = dmatrices(aux_expr, Z1_PassEEE2014J, return_type='dataframe')\n",
    "X = sm.add_constant(X)\n",
    "aux_olsr_results = sm.OLS(y, X).fit()\n",
    "print(aux_olsr_results.summary())"
   ]
  },
  {
   "cell_type": "code",
   "execution_count": 50,
   "id": "e56acd41",
   "metadata": {},
   "outputs": [
    {
     "data": {
      "text/plain": [
       "[('Lagrange Multiplier statistic:', 33.89609764887461),\n",
       " (\"LM test's p-value:\", 4.360697054706808e-08),\n",
       " ('F-statistic:', 25.80750734761448),\n",
       " (\"F-test's p-value:\", 1.3835483660656288e-09)]"
      ]
     },
     "execution_count": 50,
     "metadata": {},
     "output_type": "execute_result"
    }
   ],
   "source": [
    "expr = 'per_student_avg_week_agg_cum_weighted_score ~ _date_group'\n",
    "y, X = dmatrices(expr, Z1_PassEEE2014J, return_type='dataframe')\n",
    "keys = ['Lagrange Multiplier statistic:', 'LM test\\'s p-value:', 'F-statistic:', 'F-test\\'s p-value:']\n",
    "results = het_white(olsr_results.resid, X)\n",
    "lzip(keys, results)"
   ]
  },
  {
   "cell_type": "markdown",
   "id": "0d9b82a6",
   "metadata": {},
   "source": [
    "##### Significance of regression coefficients: \n",
    "* The p-value of _date_group and SQ_date_group are 0 (low), \n",
    "* causing us to reject the null hypothesis of the t-test \n",
    "* that both coefficients are significant \n",
    "* i.e. they are not zero."
   ]
  },
  {
   "cell_type": "markdown",
   "id": "c4d0b5a9",
   "metadata": {},
   "source": [
    "* LM test: The LM test’s statistic follows the Chi-squared distribution with \n",
    "* degrees of freedom = DF of model minus one = (3–1) = 2. \n",
    "* It’s p-value (4.360697054706808e-08) is very low. \n",
    "* So we reject the null hypothesis of the test (that there is no heteroscedastisticity in the residual errors).\n",
    "* In other words, heteroscedasticity exists    "
   ]
  },
  {
   "cell_type": "markdown",
   "id": "750633ad",
   "metadata": {},
   "source": [
    "* F-test: The F-test’s statistic follows the F-distribution. \n",
    "* Again, the low p-value of 1.3835483660656288e-09 \n",
    "* rejects the null hypothesis of the test (that there is no heteroscedastisticity in the residual errors.)\n",
    "* In other words, heteroscedasticity exists    "
   ]
  },
  {
   "cell_type": "markdown",
   "id": "24f00ea3",
   "metadata": {},
   "source": [
    "* aside from X_PassEEE2014J, the rest of the X_FailEEE2014J, X_DistinctionEEE2014J and X_WithdrawnEEE2014J \n",
    "* follows the same distributional trend and therefore we conclude that homoscedasticity criteria is NOT MET\n",
    "\n",
    "* heteroscedastic - variance (y|X) increases with X\n",
    "* homoscedastic - variance (y|X) is constant"
   ]
  },
  {
   "cell_type": "markdown",
   "id": "cd012031",
   "metadata": {},
   "source": [
    "##### CLICKS"
   ]
  },
  {
   "cell_type": "code",
   "execution_count": 51,
   "id": "3260a6da",
   "metadata": {},
   "outputs": [],
   "source": [
    "Z2_PassEEE2014J=Y_PassEEE2014J[['_date_group','per_student_avg_week_agg_cum_sum_click']]"
   ]
  },
  {
   "cell_type": "code",
   "execution_count": 52,
   "id": "8617130b",
   "metadata": {},
   "outputs": [
    {
     "data": {
      "image/png": "[encoded data removed]",
      "text/plain": [
       "<Figure size 432x288 with 1 Axes>"
      ]
     },
     "metadata": {
      "needs_background": "light"
     },
     "output_type": "display_data"
    }
   ],
   "source": [
    "fig = plt.figure()\n",
    "fig.suptitle('per_student_avg_week_agg_cum_sum_click')\n",
    "plt.xlabel('_date_group')\n",
    "plt.ylabel('per_student_avg_week_agg_cum_sum_click')\n",
    "actual, = plt.plot(Z2_PassEEE2014J['_date_group'], Z2_PassEEE2014J['per_student_avg_week_agg_cum_sum_click'], 'ro-', label='Pass')\n",
    "plt.legend(handles=[actual])\n",
    "plt.show()"
   ]
  },
  {
   "cell_type": "code",
   "execution_count": 53,
   "id": "65cb2055",
   "metadata": {},
   "outputs": [],
   "source": [
    "expr = 'per_student_avg_week_agg_cum_sum_click ~ _date_group'\n",
    "olsr_results = smf.ols(expr, Z2_PassEEE2014J).fit()"
   ]
  },
  {
   "cell_type": "code",
   "execution_count": 54,
   "id": "49879f7c",
   "metadata": {},
   "outputs": [
    {
     "data": {
      "image/png": "[encoded data removed]",
      "text/plain": [
       "<Figure size 432x288 with 1 Axes>"
      ]
     },
     "metadata": {
      "needs_background": "light"
     },
     "output_type": "display_data"
    }
   ],
   "source": [
    "fig = plt.figure()\n",
    "fig.suptitle('Residual errors against Time_Period')\n",
    "plt.xlabel('_date_group')\n",
    "plt.ylabel('Residual Errors')\n",
    "actual, = plt.plot(Z2_PassEEE2014J['_date_group'], olsr_results.resid, 'go-', label='Residual Errors')\n",
    "plt.legend(handles=[actual])\n",
    "plt.show()"
   ]
  },
  {
   "cell_type": "code",
   "execution_count": 55,
   "id": "503680a1",
   "metadata": {},
   "outputs": [
    {
     "name": "stdout",
     "output_type": "stream",
     "text": [
      "                            OLS Regression Results                            \n",
      "==============================================================================\n",
      "Dep. Variable:               SQ_RESID   R-squared:                       0.358\n",
      "Model:                            OLS   Adj. R-squared:                  0.330\n",
      "Method:                 Least Squares   F-statistic:                     13.09\n",
      "Date:                Tue, 19 Oct 2021   Prob (F-statistic):           3.02e-05\n",
      "Time:                        14:53:33   Log-Likelihood:                -557.11\n",
      "No. Observations:                  50   AIC:                             1120.\n",
      "Df Residuals:                      47   BIC:                             1126.\n",
      "Df Model:                           2                                         \n",
      "Covariance Type:            nonrobust                                         \n",
      "=================================================================================\n",
      "                    coef    std err          t      P>|t|      [0.025      0.975]\n",
      "---------------------------------------------------------------------------------\n",
      "Intercept      1.026e+04   4672.835      2.196      0.033     858.978    1.97e+04\n",
      "_date_group   -1100.1909    537.547     -2.047      0.046   -2181.596     -18.785\n",
      "SQ_date_group    44.7013     13.086      3.416      0.001      18.376      71.027\n",
      "==============================================================================\n",
      "Omnibus:                       14.137   Durbin-Watson:                   0.294\n",
      "Prob(Omnibus):                  0.001   Jarque-Bera (JB):               16.894\n",
      "Skew:                           1.037   Prob(JB):                     0.000215\n",
      "Kurtosis:                       4.950   Cond. No.                     1.61e+03\n",
      "==============================================================================\n",
      "\n",
      "Notes:\n",
      "[1] Standard Errors assume that the covariance matrix of the errors is correctly specified.\n",
      "[2] The condition number is large, 1.61e+03. This might indicate that there are\n",
      "strong multicollinearity or other numerical problems.\n"
     ]
    },
    {
     "name": "stderr",
     "output_type": "stream",
     "text": [
      "<ipython-input-55-78936d57693c>:3: SettingWithCopyWarning: \n",
      "A value is trying to be set on a copy of a slice from a DataFrame.\n",
      "Try using .loc[row_indexer,col_indexer] = value instead\n",
      "\n",
      "See the caveats in the documentation: https://pandas.pydata.org/pandas-docs/stable/user_guide/indexing.html#returning-a-view-versus-a-copy\n",
      "  Z2_PassEEE2014J['SQ_RESID'] = np.power(olsr_results.resid, 2.0)\n",
      "<ipython-input-55-78936d57693c>:4: SettingWithCopyWarning: \n",
      "A value is trying to be set on a copy of a slice from a DataFrame.\n",
      "Try using .loc[row_indexer,col_indexer] = value instead\n",
      "\n",
      "See the caveats in the documentation: https://pandas.pydata.org/pandas-docs/stable/user_guide/indexing.html#returning-a-view-versus-a-copy\n",
      "  Z2_PassEEE2014J['SQ_date_group'] = np.power(Z2_PassEEE2014J['_date_group'], 2.0)\n"
     ]
    }
   ],
   "source": [
    "# Run the White test of heteroscedasticity on the residual errors\n",
    "\n",
    "Z2_PassEEE2014J['SQ_RESID'] = np.power(olsr_results.resid, 2.0)\n",
    "Z2_PassEEE2014J['SQ_date_group'] = np.power(Z2_PassEEE2014J['_date_group'], 2.0)\n",
    "\n",
    "aux_expr = 'SQ_RESID ~ _date_group + SQ_date_group'\n",
    "y, X = dmatrices(aux_expr, Z2_PassEEE2014J, return_type='dataframe')\n",
    "X = sm.add_constant(X)\n",
    "aux_olsr_results = sm.OLS(y, X).fit()\n",
    "print(aux_olsr_results.summary())"
   ]
  },
  {
   "cell_type": "code",
   "execution_count": 56,
   "id": "b0c2eafb",
   "metadata": {},
   "outputs": [
    {
     "data": {
      "text/plain": [
       "[('Lagrange Multiplier statistic:', 17.889810232466214),\n",
       " (\"LM test's p-value:\", 0.00013039984250801042),\n",
       " ('F-statistic:', 13.092745433975226),\n",
       " (\"F-test's p-value:\", 3.022124801062823e-05)]"
      ]
     },
     "execution_count": 56,
     "metadata": {},
     "output_type": "execute_result"
    }
   ],
   "source": [
    "expr = 'per_student_avg_week_agg_cum_sum_click ~ _date_group'\n",
    "y, X = dmatrices(expr, Z2_PassEEE2014J, return_type='dataframe')\n",
    "keys = ['Lagrange Multiplier statistic:', 'LM test\\'s p-value:', 'F-statistic:', 'F-test\\'s p-value:']\n",
    "results = het_white(olsr_results.resid, X)\n",
    "lzip(keys, results)"
   ]
  },
  {
   "cell_type": "markdown",
   "id": "f2f96993",
   "metadata": {},
   "source": [
    "* For clicks... \n",
    "* The p-value of Time_Period are quite high, causing us to accept the null hypothesis of the t-test \n",
    "* that both coefficients are not significant i.e. they are basically zero."
   ]
  },
  {
   "cell_type": "markdown",
   "id": "cf340ea1",
   "metadata": {},
   "source": [
    "* p-value is very high. So we accept the null hypothesis of the test \n",
    "* that there is no heteroscedastisticity in the residual errors.\n",
    "* The F-test’s statistic follows the F-distribution. Again, the high p-value confirms the null hypothesis of the test \n",
    "* that there is no heteroscedastisticity in the residual errors."
   ]
  },
  {
   "cell_type": "markdown",
   "id": "b2ae03b8",
   "metadata": {},
   "source": [
    "For writeups, follow this to explain\n",
    "https://www.statisticshowto.com/probability-and-statistics/f-statistic-value-test/"
   ]
  },
  {
   "cell_type": "markdown",
   "id": "4e678078",
   "metadata": {},
   "source": [
    "# Wilcoxon sum rank test"
   ]
  },
  {
   "cell_type": "code",
   "execution_count": 57,
   "id": "f81ee989",
   "metadata": {},
   "outputs": [],
   "source": [
    "# splitting into relevant groups, parsing relevant columns into list\n",
    "\n",
    "Z1B_PassEEE2014J = X_PassEEE2014J['per_student_avg_week_agg_cum_weighted_score'].tolist()\n",
    "Z1B_FailEEE2014J = X_FailEEE2014J['per_student_avg_week_agg_cum_weighted_score'].tolist()\n",
    "Z1B_DistinctionEEE2014J = X_DistinctionEEE2014J['per_student_avg_week_agg_cum_weighted_score'].tolist()\n",
    "Z1B_WithdrawnEEE2014J = X_WithdrawnEEE2014J['per_student_avg_week_agg_cum_weighted_score'].tolist()\n",
    "\n",
    "Z2B_PassEEE2014J = Y_PassEEE2014J['per_student_avg_week_agg_cum_sum_click'].tolist()\n",
    "Z2B_FailEEE2014J = Y_FailEEE2014J['per_student_avg_week_agg_cum_sum_click'].tolist()\n",
    "Z2B_DistinctionEEE2014J = Y_DistinctionEEE2014J['per_student_avg_week_agg_cum_sum_click'].tolist()\n",
    "Z2B_WithdrawnEEE2014J = Y_WithdrawnEEE2014J['per_student_avg_week_agg_cum_sum_click'].tolist()"
   ]
  },
  {
   "cell_type": "code",
   "execution_count": 58,
   "id": "2dbbe336",
   "metadata": {},
   "outputs": [
    {
     "name": "stdout",
     "output_type": "stream",
     "text": [
      "WilcoxonResult(statistic=15.0, pvalue=1.7344987822256318e-17)\n",
      "WilcoxonResult(statistic=6.0, pvalue=1.2521199150186698e-17)\n",
      "WilcoxonResult(statistic=13.0, pvalue=1.1805690287184972e-17)\n",
      "WilcoxonResult(statistic=0.0, pvalue=2.375445145319962e-09)\n",
      "WilcoxonResult(statistic=0.0, pvalue=2.375445145319962e-09)\n",
      "WilcoxonResult(statistic=0.0, pvalue=2.375445145319962e-09)\n"
     ]
    }
   ],
   "source": [
    "#import scipy.stats as stats\n",
    "#perform the Wilcoxon-Signed Rank Test\n",
    "#https://www.statology.org/wilcoxon-signed-rank-test-python/\n",
    "print(stats.wilcoxon(Z1B_PassEEE2014J, Z1B_FailEEE2014J))\n",
    "print(stats.wilcoxon(Z1B_PassEEE2014J, Z1B_DistinctionEEE2014J))\n",
    "print(stats.wilcoxon(Z1B_FailEEE2014J, Z1B_DistinctionEEE2014J))\n",
    "\n",
    "print(stats.wilcoxon(Z2B_PassEEE2014J, Z2B_FailEEE2014J))\n",
    "print(stats.wilcoxon(Z2B_PassEEE2014J, Z2B_DistinctionEEE2014J))\n",
    "print(stats.wilcoxon(Z2B_FailEEE2014J, Z2B_DistinctionEEE2014J))"
   ]
  },
  {
   "cell_type": "code",
   "execution_count": 59,
   "id": "34c56e99",
   "metadata": {},
   "outputs": [],
   "source": [
    "### filter by time period\n",
    "### run again"
   ]
  },
  {
   "cell_type": "code",
   "execution_count": 60,
   "id": "f6a21f34",
   "metadata": {},
   "outputs": [],
   "source": [
    "Z1B0_PassEEE2014J = X_PassEEE2014J['per_student_avg_week_agg_cum_weighted_score'][\\\n",
    "    (X_PassEEE2014J['_date_group'] >=-3) & (X_PassEEE2014J['_date_group'] <=4)]\n",
    "Z1B1_PassEEE2014J = X_PassEEE2014J['per_student_avg_week_agg_cum_weighted_score'][\\\n",
    "    (X_PassEEE2014J['_date_group'] >=5) & (X_PassEEE2014J['_date_group'] <=9)]\n",
    "Z1B2_PassEEE2014J = X_PassEEE2014J['per_student_avg_week_agg_cum_weighted_score'][\\\n",
    "    (X_PassEEE2014J['_date_group'] >=10) & (X_PassEEE2014J['_date_group'] <=18)]\n",
    "Z1B3_PassEEE2014J = X_PassEEE2014J['per_student_avg_week_agg_cum_weighted_score'][\\\n",
    "    (X_PassEEE2014J['_date_group'] >=19) & (X_PassEEE2014J['_date_group'] <=23)]\n",
    "Z1B4_PassEEE2014J = X_PassEEE2014J['per_student_avg_week_agg_cum_weighted_score'][\\\n",
    "    (X_PassEEE2014J['_date_group'] >=24)]\n",
    "\n",
    "Z1B0_FailEEE2014J = X_FailEEE2014J['per_student_avg_week_agg_cum_weighted_score'][\\\n",
    "    (X_FailEEE2014J['_date_group'] >=-3) & (X_FailEEE2014J['_date_group'] <=4)]\n",
    "Z1B1_FailEEE2014J = X_FailEEE2014J['per_student_avg_week_agg_cum_weighted_score'][\\\n",
    "    (X_FailEEE2014J['_date_group'] >=5) & (X_FailEEE2014J['_date_group'] <=9)]\n",
    "Z1B2_FailEEE2014J = X_FailEEE2014J['per_student_avg_week_agg_cum_weighted_score'][\\\n",
    "    (X_FailEEE2014J['_date_group'] >=10) & (X_FailEEE2014J['_date_group'] <=18)]\n",
    "Z1B3_FailEEE2014J = X_FailEEE2014J['per_student_avg_week_agg_cum_weighted_score'][\\\n",
    "    (X_FailEEE2014J['_date_group'] >=19) & (X_FailEEE2014J['_date_group'] <=23)]\n",
    "Z1B4_FailEEE2014J = X_FailEEE2014J['per_student_avg_week_agg_cum_weighted_score'][\\\n",
    "    (X_FailEEE2014J['_date_group'] >=24)]\n",
    "\n",
    "Z1B0_DistinctionEEE2014J = X_DistinctionEEE2014J['per_student_avg_week_agg_cum_weighted_score'][\\\n",
    "    (X_DistinctionEEE2014J['_date_group'] >=-3) & (X_DistinctionEEE2014J['_date_group'] <=4)]\n",
    "Z1B1_DistinctionEEE2014J = X_DistinctionEEE2014J['per_student_avg_week_agg_cum_weighted_score'][\\\n",
    "    (X_DistinctionEEE2014J['_date_group'] >=5) & (X_DistinctionEEE2014J['_date_group'] <=9)]\n",
    "Z1B2_DistinctionEEE2014J = X_DistinctionEEE2014J['per_student_avg_week_agg_cum_weighted_score'][\\\n",
    "    (X_DistinctionEEE2014J['_date_group'] >=10) & (X_DistinctionEEE2014J['_date_group'] <=18)]\n",
    "Z1B3_DistinctionEEE2014J = X_DistinctionEEE2014J['per_student_avg_week_agg_cum_weighted_score'][\\\n",
    "    (X_DistinctionEEE2014J['_date_group'] >=19) & (X_DistinctionEEE2014J['_date_group'] <=23)]\n",
    "Z1B4_DistinctionEEE2014J = X_DistinctionEEE2014J['per_student_avg_week_agg_cum_weighted_score'][\\\n",
    "    (X_DistinctionEEE2014J['_date_group'] >=24)]"
   ]
  },
  {
   "cell_type": "code",
   "execution_count": 61,
   "id": "961303b9",
   "metadata": {},
   "outputs": [
    {
     "name": "stdout",
     "output_type": "stream",
     "text": [
      "WilcoxonResult(statistic=0.0, pvalue=0.04216819709715596)\n",
      "WilcoxonResult(statistic=6.0, pvalue=0.6844698210251553)\n",
      "WilcoxonResult(statistic=2.0, pvalue=0.13621686984456766)\n",
      "WilcoxonResult(statistic=0.0, pvalue=0.0625)\n",
      "WilcoxonResult(statistic=0.0, pvalue=0.0625)\n",
      "WilcoxonResult(statistic=0.0, pvalue=0.0625)\n",
      "WilcoxonResult(statistic=0.0, pvalue=0.00390625)\n",
      "WilcoxonResult(statistic=0.0, pvalue=0.00390625)\n",
      "WilcoxonResult(statistic=0.0, pvalue=0.00390625)\n",
      "WilcoxonResult(statistic=0.0, pvalue=0.0625)\n",
      "WilcoxonResult(statistic=0.0, pvalue=0.0625)\n",
      "WilcoxonResult(statistic=0.0, pvalue=0.0625)\n",
      "WilcoxonResult(statistic=0.0, pvalue=3.814915564039236e-15)\n",
      "WilcoxonResult(statistic=0.0, pvalue=3.814915564039236e-15)\n",
      "WilcoxonResult(statistic=0.0, pvalue=1.7465864069778473e-15)\n"
     ]
    },
    {
     "name": "stderr",
     "output_type": "stream",
     "text": [
      "C:\\Users\\EeLian\\anaconda3\\lib\\site-packages\\scipy\\stats\\morestats.py:2967: UserWarning: Exact p-value calculation does not work if there are ties. Switching to normal approximation.\n",
      "  warnings.warn(\"Exact p-value calculation does not work if there are \"\n",
      "C:\\Users\\EeLian\\anaconda3\\lib\\site-packages\\scipy\\stats\\morestats.py:2981: UserWarning: Sample size too small for normal approximation.\n",
      "  warnings.warn(\"Sample size too small for normal approximation.\")\n"
     ]
    }
   ],
   "source": [
    "print(stats.wilcoxon(Z1B0_PassEEE2014J, Z1B0_FailEEE2014J))\n",
    "print(stats.wilcoxon(Z1B0_PassEEE2014J, Z1B0_DistinctionEEE2014J))\n",
    "print(stats.wilcoxon(Z1B0_FailEEE2014J, Z1B0_DistinctionEEE2014J))\n",
    "\n",
    "print(stats.wilcoxon(Z1B1_PassEEE2014J, Z1B1_FailEEE2014J))\n",
    "print(stats.wilcoxon(Z1B1_PassEEE2014J, Z1B1_DistinctionEEE2014J))\n",
    "print(stats.wilcoxon(Z1B1_FailEEE2014J, Z1B1_DistinctionEEE2014J))\n",
    "\n",
    "print(stats.wilcoxon(Z1B2_PassEEE2014J, Z1B2_FailEEE2014J))\n",
    "print(stats.wilcoxon(Z1B2_PassEEE2014J, Z1B2_DistinctionEEE2014J))\n",
    "print(stats.wilcoxon(Z1B2_FailEEE2014J, Z1B2_DistinctionEEE2014J))\n",
    "\n",
    "print(stats.wilcoxon(Z1B3_PassEEE2014J, Z1B3_FailEEE2014J))\n",
    "print(stats.wilcoxon(Z1B3_PassEEE2014J, Z1B3_DistinctionEEE2014J))\n",
    "print(stats.wilcoxon(Z1B3_FailEEE2014J, Z1B3_DistinctionEEE2014J))\n",
    "\n",
    "print(stats.wilcoxon(Z1B4_PassEEE2014J, Z1B4_FailEEE2014J))\n",
    "print(stats.wilcoxon(Z1B4_PassEEE2014J, Z1B4_DistinctionEEE2014J))\n",
    "print(stats.wilcoxon(Z1B4_FailEEE2014J, Z1B4_DistinctionEEE2014J))"
   ]
  },
  {
   "cell_type": "markdown",
   "id": "5ecfd50e",
   "metadata": {},
   "source": [
    "Significance is noted by second phase of assessment submissions ..."
   ]
  },
  {
   "cell_type": "markdown",
   "id": "a8058fb6",
   "metadata": {},
   "source": [
    "* Since the p-value is less than 0.05, we reject the null hypothesis. \n",
    "* We have sufficient evidence to say that the true mean is not equal between the two groups.\n",
    "* and the earliest phase for p value is at phase 2, from week 10 onwards"
   ]
  },
  {
   "cell_type": "code",
   "execution_count": 62,
   "id": "d6ef6a6b",
   "metadata": {},
   "outputs": [
    {
     "data": {
      "text/plain": [
       "<matplotlib.lines.Line2D at 0x1af0fe8e8b0>"
      ]
     },
     "execution_count": 62,
     "metadata": {},
     "output_type": "execute_result"
    },
    {
     "data": {
      "image/png": "[encoded data removed]",
      "text/plain": [
       "<Figure size 432x288 with 1 Axes>"
      ]
     },
     "metadata": {
      "needs_background": "light"
     },
     "output_type": "display_data"
    }
   ],
   "source": [
    "plt.plot(X_PassEEE2014J['_date_group'], X_PassEEE2014J['per_student_avg_week_agg_cum_weighted_score'])\n",
    "plt.plot(X_FailEEE2014J['_date_group'], X_FailEEE2014J['per_student_avg_week_agg_cum_weighted_score'])\n",
    "plt.plot(X_DistinctionEEE2014J['_date_group'], X_DistinctionEEE2014J['per_student_avg_week_agg_cum_weighted_score'])\n",
    "plt.plot(X_WithdrawnEEE2014J['_date_group'], X_WithdrawnEEE2014J['per_student_avg_week_agg_cum_weighted_score'])\n",
    "plt.axvline(x=10, color='k', linestyle='--')"
   ]
  },
  {
   "cell_type": "markdown",
   "id": "d3ab743b",
   "metadata": {},
   "source": [
    "* Week 10 (till 18) is the first point of significance\n",
    "* select Week 16 when most of the assessment submissions has completed"
   ]
  },
  {
   "cell_type": "code",
   "execution_count": 63,
   "id": "b808538c",
   "metadata": {},
   "outputs": [
    {
     "data": {
      "text/plain": [
       "[<matplotlib.lines.Line2D at 0x1af0fee5850>]"
      ]
     },
     "execution_count": 63,
     "metadata": {},
     "output_type": "execute_result"
    },
    {
     "data": {
      "image/png": "[encoded data removed]",
      "text/plain": [
       "<Figure size 432x288 with 1 Axes>"
      ]
     },
     "metadata": {
      "needs_background": "light"
     },
     "output_type": "display_data"
    }
   ],
   "source": [
    "X_PassEEE2013J= tbl_week_aggnostd_two_score6[(tbl_week_aggnostd_two_score6['_surrogate_key_two'].isin(['PassEEE2013J']))]\n",
    "X_FailEEE2013J= tbl_week_aggnostd_two_score6[(tbl_week_aggnostd_two_score6['_surrogate_key_two'].isin(['FailEEE2013J']))]\n",
    "X_DistinctionEEE2013J= tbl_week_aggnostd_two_score6[(tbl_week_aggnostd_two_score6['_surrogate_key_two'].isin(['DistinctionEEE2013J']))]\n",
    "X_WithdrawnEEE2013J= tbl_week_aggnostd_two_score6[(tbl_week_aggnostd_two_score6['_surrogate_key_two'].isin(['WithdrawnEEE2013J']))]\n",
    "\n",
    "plt.plot(X_PassEEE2013J['_date_group'], X_PassEEE2013J['per_student_avg_week_agg_cum_weighted_score'])\n",
    "plt.plot(X_FailEEE2013J['_date_group'], X_FailEEE2013J['per_student_avg_week_agg_cum_weighted_score'])\n",
    "plt.plot(X_DistinctionEEE2013J['_date_group'], X_DistinctionEEE2013J['per_student_avg_week_agg_cum_weighted_score'])\n",
    "plt.plot(X_WithdrawnEEE2013J['_date_group'], X_WithdrawnEEE2013J['per_student_avg_week_agg_cum_weighted_score'])\n",
    "#plt.plot(_date_group, np.cos(x));"
   ]
  },
  {
   "cell_type": "markdown",
   "id": "251e191e",
   "metadata": {},
   "source": [
    "##### What about the Rest?"
   ]
  },
  {
   "cell_type": "markdown",
   "id": "430be307",
   "metadata": {},
   "source": [
    "* CCC, DDD, EEE, FFF are STEM\n",
    "* AAA, BBB, GGG are social sciences"
   ]
  },
  {
   "cell_type": "code",
   "execution_count": 64,
   "id": "d51c6490",
   "metadata": {},
   "outputs": [
    {
     "data": {
      "text/plain": [
       "[<matplotlib.lines.Line2D at 0x1af0ff45b50>]"
      ]
     },
     "execution_count": 64,
     "metadata": {},
     "output_type": "execute_result"
    },
    {
     "data": {
      "image/png": "[encoded data removed]",
      "text/plain": [
       "<Figure size 432x288 with 1 Axes>"
      ]
     },
     "metadata": {
      "needs_background": "light"
     },
     "output_type": "display_data"
    }
   ],
   "source": [
    "X_PassFFF2013J= tbl_week_aggnostd_two_score6[(tbl_week_aggnostd_two_score6['_surrogate_key_two'].isin(['PassFFF2013J']))]\n",
    "X_FailFFF2013J= tbl_week_aggnostd_two_score6[(tbl_week_aggnostd_two_score6['_surrogate_key_two'].isin(['FailFFF2013J']))]\n",
    "X_DistinctionFFF2013J= tbl_week_aggnostd_two_score6[(tbl_week_aggnostd_two_score6['_surrogate_key_two'].isin(['DistinctionFFF2013J']))]\n",
    "X_WithdrawnFFF2013J= tbl_week_aggnostd_two_score6[(tbl_week_aggnostd_two_score6['_surrogate_key_two'].isin(['WithdrawnFFF2013J']))]\n",
    "\n",
    "plt.plot(X_PassFFF2013J['_date_group'], X_PassFFF2013J['per_student_avg_week_agg_cum_weighted_score'])\n",
    "plt.plot(X_FailFFF2013J['_date_group'], X_FailFFF2013J['per_student_avg_week_agg_cum_weighted_score'])\n",
    "plt.plot(X_DistinctionFFF2013J['_date_group'], X_DistinctionFFF2013J['per_student_avg_week_agg_cum_weighted_score'])\n",
    "plt.plot(X_WithdrawnFFF2013J['_date_group'], X_WithdrawnFFF2013J['per_student_avg_week_agg_cum_weighted_score'])\n",
    "#plt.plot(_date_group, np.cos(x));"
   ]
  },
  {
   "cell_type": "code",
   "execution_count": 65,
   "id": "a2123478",
   "metadata": {},
   "outputs": [
    {
     "data": {
      "text/plain": [
       "[<matplotlib.lines.Line2D at 0x1af0ffa6d60>]"
      ]
     },
     "execution_count": 65,
     "metadata": {},
     "output_type": "execute_result"
    },
    {
     "data": {
      "image/png": "[encoded data removed]",
      "text/plain": [
       "<Figure size 432x288 with 1 Axes>"
      ]
     },
     "metadata": {
      "needs_background": "light"
     },
     "output_type": "display_data"
    }
   ],
   "source": [
    "X_PassDDD2013J= tbl_week_aggnostd_two_score6[(tbl_week_aggnostd_two_score6['_surrogate_key_two'].isin(['PassDDD2013J']))]\n",
    "X_FailDDD2013J= tbl_week_aggnostd_two_score6[(tbl_week_aggnostd_two_score6['_surrogate_key_two'].isin(['FailDDD2013J']))]\n",
    "X_DistinctionDDD2013J= tbl_week_aggnostd_two_score6[(tbl_week_aggnostd_two_score6['_surrogate_key_two'].isin(['DistinctionDDD2013J']))]\n",
    "X_WithdrawnDDD2013J= tbl_week_aggnostd_two_score6[(tbl_week_aggnostd_two_score6['_surrogate_key_two'].isin(['WithdrawnDDD2013J']))]\n",
    "\n",
    "plt.plot(X_PassDDD2013J['_date_group'], X_PassDDD2013J['per_student_avg_week_agg_cum_weighted_score'])\n",
    "plt.plot(X_FailDDD2013J['_date_group'], X_FailDDD2013J['per_student_avg_week_agg_cum_weighted_score'])\n",
    "plt.plot(X_DistinctionDDD2013J['_date_group'], X_DistinctionDDD2013J['per_student_avg_week_agg_cum_weighted_score'])\n",
    "plt.plot(X_WithdrawnDDD2013J['_date_group'], X_WithdrawnDDD2013J['per_student_avg_week_agg_cum_weighted_score'])\n",
    "#plt.plot(_date_group, np.cos(x));"
   ]
  },
  {
   "cell_type": "code",
   "execution_count": 66,
   "id": "1e4a7e70",
   "metadata": {},
   "outputs": [
    {
     "data": {
      "text/plain": [
       "[<matplotlib.lines.Line2D at 0x1af16034fd0>]"
      ]
     },
     "execution_count": 66,
     "metadata": {},
     "output_type": "execute_result"
    },
    {
     "data": {
      "image/png": "[encoded data removed]",
      "text/plain": [
       "<Figure size 432x288 with 1 Axes>"
      ]
     },
     "metadata": {
      "needs_background": "light"
     },
     "output_type": "display_data"
    }
   ],
   "source": [
    "X_PassEEE2013B= tbl_week_aggnostd_two_score6[(tbl_week_aggnostd_two_score6['_surrogate_key_two'].isin(['PassEEE2013B']))]\n",
    "X_FailEEE2013B= tbl_week_aggnostd_two_score6[(tbl_week_aggnostd_two_score6['_surrogate_key_two'].isin(['FailEEE2013B']))]\n",
    "X_DistinctionEEE2013B= tbl_week_aggnostd_two_score6[(tbl_week_aggnostd_two_score6['_surrogate_key_two'].isin(['DistinctionEEE2013B']))]\n",
    "X_WithdrawnEEE2013B= tbl_week_aggnostd_two_score6[(tbl_week_aggnostd_two_score6['_surrogate_key_two'].isin(['WithdrawnEEE2013B']))]\n",
    "\n",
    "plt.plot(X_PassEEE2013B['_date_group'], X_PassEEE2013B['per_student_avg_week_agg_cum_weighted_score'])\n",
    "plt.plot(X_FailEEE2013B['_date_group'], X_FailEEE2013B['per_student_avg_week_agg_cum_weighted_score'])\n",
    "plt.plot(X_DistinctionEEE2013B['_date_group'], X_DistinctionEEE2013B['per_student_avg_week_agg_cum_weighted_score'])\n",
    "plt.plot(X_WithdrawnEEE2013B['_date_group'], X_WithdrawnEEE2013B['per_student_avg_week_agg_cum_weighted_score'])\n",
    "#plt.plot(_date_group, np.cos(x));"
   ]
  },
  {
   "cell_type": "code",
   "execution_count": 67,
   "id": "b11aef37",
   "metadata": {},
   "outputs": [
    {
     "data": {
      "text/plain": [
       "[<matplotlib.lines.Line2D at 0x1af160a2160>]"
      ]
     },
     "execution_count": 67,
     "metadata": {},
     "output_type": "execute_result"
    },
    {
     "data": {
      "image/png": "[encoded data removed]",
      "text/plain": [
       "<Figure size 432x288 with 1 Axes>"
      ]
     },
     "metadata": {
      "needs_background": "light"
     },
     "output_type": "display_data"
    }
   ],
   "source": [
    "X_PassEEE2014B= tbl_week_aggnostd_two_score6[(tbl_week_aggnostd_two_score6['_surrogate_key_two'].isin(['PassEEE2014B']))]\n",
    "X_FailEEE2014B= tbl_week_aggnostd_two_score6[(tbl_week_aggnostd_two_score6['_surrogate_key_two'].isin(['FailEEE2014B']))]\n",
    "X_DistinctionEEE2014B= tbl_week_aggnostd_two_score6[(tbl_week_aggnostd_two_score6['_surrogate_key_two'].isin(['DistinctionEEE2014B']))]\n",
    "X_WithdrawnEEE2014B= tbl_week_aggnostd_two_score6[(tbl_week_aggnostd_two_score6['_surrogate_key_two'].isin(['WithdrawnEEE2014B']))]\n",
    "\n",
    "plt.plot(X_PassEEE2014B['_date_group'], X_PassEEE2014B['per_student_avg_week_agg_cum_weighted_score'])\n",
    "plt.plot(X_FailEEE2014B['_date_group'], X_FailEEE2014B['per_student_avg_week_agg_cum_weighted_score'])\n",
    "plt.plot(X_DistinctionEEE2014B['_date_group'], X_DistinctionEEE2014B['per_student_avg_week_agg_cum_weighted_score'])\n",
    "plt.plot(X_WithdrawnEEE2014B['_date_group'], X_WithdrawnEEE2014B['per_student_avg_week_agg_cum_weighted_score'])\n",
    "#plt.plot(_date_group, np.cos(x));"
   ]
  },
  {
   "cell_type": "markdown",
   "id": "b0b7b3b3",
   "metadata": {},
   "source": [
    "There are more assessments steps during the longer J semesters for other STEM courses such as CCC, DDD, EEE, and FFF"
   ]
  },
  {
   "cell_type": "markdown",
   "id": "015cca84",
   "metadata": {},
   "source": [
    "Let's try to opt for the following at Week 16 cutoff point for modeling point\n",
    "* EEE\t2013J\t1052 students for train week \n",
    "* EEE\t2014B\t 694 students for train week\n",
    "* EEE\t2014J\t1188 students for test week "
   ]
  },
  {
   "cell_type": "code",
   "execution_count": 68,
   "id": "b5c4fdc6",
   "metadata": {},
   "outputs": [
    {
     "data": {
      "text/plain": [
       "<matplotlib.lines.Line2D at 0x1af160fb6d0>"
      ]
     },
     "execution_count": 68,
     "metadata": {},
     "output_type": "execute_result"
    },
    {
     "data": {
      "image/png": "[encoded data removed]",
      "text/plain": [
       "<Figure size 432x288 with 1 Axes>"
      ]
     },
     "metadata": {
      "needs_background": "light"
     },
     "output_type": "display_data"
    }
   ],
   "source": [
    "plt.plot(X_PassEEE2014J['_date_group'], X_PassEEE2014J['per_student_avg_week_agg_cum_weighted_score'])\n",
    "plt.plot(X_FailEEE2014J['_date_group'], X_FailEEE2014J['per_student_avg_week_agg_cum_weighted_score'])\n",
    "plt.plot(X_DistinctionEEE2014J['_date_group'], X_DistinctionEEE2014J['per_student_avg_week_agg_cum_weighted_score'])\n",
    "plt.plot(X_WithdrawnEEE2014J['_date_group'], X_WithdrawnEEE2014J['per_student_avg_week_agg_cum_weighted_score'])\n",
    "plt.axvline(x=16, color='k', linestyle='--')"
   ]
  },
  {
   "cell_type": "code",
   "execution_count": 69,
   "id": "253e38d3",
   "metadata": {},
   "outputs": [
    {
     "data": {
      "text/plain": [
       "<matplotlib.lines.Line2D at 0x1af16988880>"
      ]
     },
     "execution_count": 69,
     "metadata": {},
     "output_type": "execute_result"
    },
    {
     "data": {
      "image/png": "[encoded data removed]",
      "text/plain": [
       "<Figure size 432x288 with 1 Axes>"
      ]
     },
     "metadata": {
      "needs_background": "light"
     },
     "output_type": "display_data"
    }
   ],
   "source": [
    "plt.plot(X_PassEEE2014B['_date_group'], X_PassEEE2014B['per_student_avg_week_agg_cum_weighted_score'])\n",
    "plt.plot(X_FailEEE2014B['_date_group'], X_FailEEE2014B['per_student_avg_week_agg_cum_weighted_score'])\n",
    "plt.plot(X_DistinctionEEE2014B['_date_group'], X_DistinctionEEE2014B['per_student_avg_week_agg_cum_weighted_score'])\n",
    "plt.plot(X_WithdrawnEEE2014B['_date_group'], X_WithdrawnEEE2014B['per_student_avg_week_agg_cum_weighted_score'])\n",
    "plt.axvline(x=16, color='k', linestyle='--')"
   ]
  },
  {
   "cell_type": "code",
   "execution_count": 70,
   "id": "ff1db25c",
   "metadata": {},
   "outputs": [
    {
     "data": {
      "text/plain": [
       "<matplotlib.lines.Line2D at 0x1af169ea880>"
      ]
     },
     "execution_count": 70,
     "metadata": {},
     "output_type": "execute_result"
    },
    {
     "data": {
      "image/png": "[encoded data removed]",
      "text/plain": [
       "<Figure size 432x288 with 1 Axes>"
      ]
     },
     "metadata": {
      "needs_background": "light"
     },
     "output_type": "display_data"
    }
   ],
   "source": [
    "plt.plot(X_PassEEE2014J['_date_group'], X_PassEEE2014J['per_student_avg_week_agg_cum_weighted_score'])\n",
    "plt.plot(X_FailEEE2014J['_date_group'], X_FailEEE2014J['per_student_avg_week_agg_cum_weighted_score'])\n",
    "plt.plot(X_DistinctionEEE2014J['_date_group'], X_DistinctionEEE2014J['per_student_avg_week_agg_cum_weighted_score'])\n",
    "plt.plot(X_WithdrawnEEE2014J['_date_group'], X_WithdrawnEEE2014J['per_student_avg_week_agg_cum_weighted_score'])\n",
    "plt.axvline(x=16, color='k', linestyle='--')"
   ]
  },
  {
   "cell_type": "markdown",
   "id": "628434b4",
   "metadata": {},
   "source": [
    "### Control Group: FFF"
   ]
  },
  {
   "cell_type": "code",
   "execution_count": 71,
   "id": "9934de17",
   "metadata": {},
   "outputs": [
    {
     "data": {
      "text/plain": [
       "[<matplotlib.lines.Line2D at 0x1af16a53610>]"
      ]
     },
     "execution_count": 71,
     "metadata": {},
     "output_type": "execute_result"
    },
    {
     "data": {
      "image/png": "[encoded data removed]",
      "text/plain": [
       "<Figure size 432x288 with 1 Axes>"
      ]
     },
     "metadata": {
      "needs_background": "light"
     },
     "output_type": "display_data"
    }
   ],
   "source": [
    "X_PassFFF2014J= tbl_week_aggnostd_two_score6[(tbl_week_aggnostd_two_score6['_surrogate_key_two'].isin(['PassFFF2014J']))]\n",
    "X_FailFFF2014J= tbl_week_aggnostd_two_score6[(tbl_week_aggnostd_two_score6['_surrogate_key_two'].isin(['FailFFF2014J']))]\n",
    "X_DistinctionFFF2014J= tbl_week_aggnostd_two_score6[(tbl_week_aggnostd_two_score6['_surrogate_key_two'].isin(['DistinctionFFF2014J']))]\n",
    "X_WithdrawnFFF2014J= tbl_week_aggnostd_two_score6[(tbl_week_aggnostd_two_score6['_surrogate_key_two'].isin(['WithdrawnFFF2014J']))]\n",
    "\n",
    "plt.plot(X_PassFFF2014J['_date_group'], X_PassFFF2014J['per_student_avg_week_agg_cum_weighted_score'])\n",
    "plt.plot(X_FailFFF2014J['_date_group'], X_FailFFF2014J['per_student_avg_week_agg_cum_weighted_score'])\n",
    "plt.plot(X_DistinctionFFF2014J['_date_group'], X_DistinctionFFF2014J['per_student_avg_week_agg_cum_weighted_score'])\n",
    "plt.plot(X_WithdrawnFFF2014J['_date_group'], X_WithdrawnFFF2014J['per_student_avg_week_agg_cum_weighted_score'])\n",
    "\n",
    "#X_PassFFF2014J.to_csv('X_PassFFF2014J.csv',index=True,header=True)\n",
    "#X_FailFFF2014J.to_csv('X_FailFFF2014J.csv',index=True,header=True)\n",
    "#X_DistinctionFFF2014J.to_csv('X_DistinctionFFF2014J.csv',index=True,header=True)\n",
    "#X_WithdrawnFFF2014J.to_csv('X_WithdrawnFFF2014J.csv',index=True,header=True)"
   ]
  },
  {
   "cell_type": "code",
   "execution_count": 72,
   "id": "d29e0c85",
   "metadata": {},
   "outputs": [
    {
     "data": {
      "text/plain": [
       "[<matplotlib.lines.Line2D at 0x1af16ab40a0>]"
      ]
     },
     "execution_count": 72,
     "metadata": {},
     "output_type": "execute_result"
    },
    {
     "data": {
      "image/png": "[encoded data removed]",
      "text/plain": [
       "<Figure size 432x288 with 1 Axes>"
      ]
     },
     "metadata": {
      "needs_background": "light"
     },
     "output_type": "display_data"
    }
   ],
   "source": [
    "X_PassFFF2013J= tbl_week_aggnostd_two_score6[(tbl_week_aggnostd_two_score6['_surrogate_key_two'].isin(['PassFFF2013J']))]\n",
    "X_FailFFF2013J= tbl_week_aggnostd_two_score6[(tbl_week_aggnostd_two_score6['_surrogate_key_two'].isin(['FailFFF2013J']))]\n",
    "X_DistinctionFFF2013J= tbl_week_aggnostd_two_score6[(tbl_week_aggnostd_two_score6['_surrogate_key_two'].isin(['DistinctionFFF2013J']))]\n",
    "X_WithdrawnFFF2013J= tbl_week_aggnostd_two_score6[(tbl_week_aggnostd_two_score6['_surrogate_key_two'].isin(['WithdrawnFFF2013J']))]\n",
    "\n",
    "plt.plot(X_PassFFF2013J['_date_group'], X_PassFFF2013J['per_student_avg_week_agg_cum_weighted_score'])\n",
    "plt.plot(X_FailFFF2013J['_date_group'], X_FailFFF2013J['per_student_avg_week_agg_cum_weighted_score'])\n",
    "plt.plot(X_DistinctionFFF2013J['_date_group'], X_DistinctionFFF2013J['per_student_avg_week_agg_cum_weighted_score'])\n",
    "plt.plot(X_WithdrawnFFF2013J['_date_group'], X_WithdrawnFFF2013J['per_student_avg_week_agg_cum_weighted_score'])\n",
    "\n",
    "#X_PassFFF2013J.to_csv('X_PassFFF2013J.csv',index=True,header=True)\n",
    "#X_FailFFF2013J.to_csv('X_FailFFF2013J.csv',index=True,header=True)\n",
    "#X_DistinctionFFF2013J.to_csv('X_DistinctionFFF2013J.csv',index=True,header=True)\n",
    "#X_WithdrawnFFF2013J.to_csv('X_WithdrawnFFF2013J.csv',index=True,header=True)"
   ]
  },
  {
   "cell_type": "code",
   "execution_count": 73,
   "id": "ab7b2c65",
   "metadata": {},
   "outputs": [
    {
     "data": {
      "text/plain": [
       "[<matplotlib.lines.Line2D at 0x1af0ffd7970>]"
      ]
     },
     "execution_count": 73,
     "metadata": {},
     "output_type": "execute_result"
    },
    {
     "data": {
      "image/png": "[encoded data removed]",
      "text/plain": [
       "<Figure size 432x288 with 1 Axes>"
      ]
     },
     "metadata": {
      "needs_background": "light"
     },
     "output_type": "display_data"
    }
   ],
   "source": [
    "X_PassFFF2013B= tbl_week_aggnostd_two_score6[(tbl_week_aggnostd_two_score6['_surrogate_key_two'].isin(['PassFFF2013B']))]\n",
    "X_FailFFF2013B= tbl_week_aggnostd_two_score6[(tbl_week_aggnostd_two_score6['_surrogate_key_two'].isin(['FailFFF2013B']))]\n",
    "X_DistinctionFFF2013B= tbl_week_aggnostd_two_score6[(tbl_week_aggnostd_two_score6['_surrogate_key_two'].isin(['DistinctionFFF2013B']))]\n",
    "X_WithdrawnFFF2013B= tbl_week_aggnostd_two_score6[(tbl_week_aggnostd_two_score6['_surrogate_key_two'].isin(['WithdrawnFFF2013B']))]\n",
    "\n",
    "plt.plot(X_PassFFF2013B['_date_group'], X_PassFFF2013B['per_student_avg_week_agg_cum_weighted_score'])\n",
    "plt.plot(X_FailFFF2013B['_date_group'], X_FailFFF2013B['per_student_avg_week_agg_cum_weighted_score'])\n",
    "plt.plot(X_DistinctionFFF2013B['_date_group'], X_DistinctionFFF2013B['per_student_avg_week_agg_cum_weighted_score'])\n",
    "plt.plot(X_WithdrawnFFF2013B['_date_group'], X_WithdrawnFFF2013B['per_student_avg_week_agg_cum_weighted_score'])\n",
    "\n",
    "#X_PassFFF2013B.to_csv('X_PassFFF2013B.csv',index=True,header=True)\n",
    "#X_FailFFF2013B.to_csv('X_FailFFF2013B.csv',index=True,header=True)\n",
    "#X_DistinctionFFF2013B.to_csv('X_DistinctionFFF2013B.csv',index=True,header=True)\n",
    "#X_WithdrawnFFF2013B.to_csv('X_WithdrawnFFF2013B.csv',index=True,header=True)"
   ]
  },
  {
   "cell_type": "code",
   "execution_count": 74,
   "id": "1d088743",
   "metadata": {},
   "outputs": [
    {
     "data": {
      "text/plain": [
       "[<matplotlib.lines.Line2D at 0x1af16a1af40>]"
      ]
     },
     "execution_count": 74,
     "metadata": {},
     "output_type": "execute_result"
    },
    {
     "data": {
      "image/png": "[encoded data removed]",
      "text/plain": [
       "<Figure size 432x288 with 1 Axes>"
      ]
     },
     "metadata": {
      "needs_background": "light"
     },
     "output_type": "display_data"
    }
   ],
   "source": [
    "X_PassFFF2014B= tbl_week_aggnostd_two_score6[(tbl_week_aggnostd_two_score6['_surrogate_key_two'].isin(['PassFFF2014B']))]\n",
    "X_FailFFF2014B= tbl_week_aggnostd_two_score6[(tbl_week_aggnostd_two_score6['_surrogate_key_two'].isin(['FailFFF2014B']))]\n",
    "X_DistinctionFFF2014B= tbl_week_aggnostd_two_score6[(tbl_week_aggnostd_two_score6['_surrogate_key_two'].isin(['DistinctionFFF2014B']))]\n",
    "X_WithdrawnFFF2014B= tbl_week_aggnostd_two_score6[(tbl_week_aggnostd_two_score6['_surrogate_key_two'].isin(['WithdrawnFFF2014B']))]\n",
    "\n",
    "plt.plot(X_PassFFF2014B['_date_group'], X_PassFFF2014B['per_student_avg_week_agg_cum_weighted_score'])\n",
    "plt.plot(X_FailFFF2014B['_date_group'], X_FailFFF2014B['per_student_avg_week_agg_cum_weighted_score'])\n",
    "plt.plot(X_DistinctionFFF2014B['_date_group'], X_DistinctionFFF2014B['per_student_avg_week_agg_cum_weighted_score'])\n",
    "plt.plot(X_WithdrawnFFF2014B['_date_group'], X_WithdrawnFFF2014B['per_student_avg_week_agg_cum_weighted_score'])\n",
    "\n",
    "#X_PassFFF2014B.to_csv('X_PassFFF2014B.csv',index=True,header=True)\n",
    "#X_FailFFF2014B.to_csv('X_FailFFF2014B.csv',index=True,header=True)\n",
    "#X_DistinctionFFF2014B.to_csv('X_DistinctionFFF2014B.csv',index=True,header=True)\n",
    "#X_WithdrawnFFF2014B.to_csv('X_WithdrawnFFF2014B.csv',index=True,header=True)"
   ]
  },
  {
   "cell_type": "code",
   "execution_count": 75,
   "id": "87e164a2",
   "metadata": {},
   "outputs": [
    {
     "name": "stdout",
     "output_type": "stream",
     "text": [
      "FFF2014J\n",
      "WilcoxonResult(statistic=22.0, pvalue=3.395891295111938e-17)\n",
      "WilcoxonResult(statistic=6.0, pvalue=1.91754781143397e-17)\n",
      "WilcoxonResult(statistic=10.0, pvalue=2.2129744604316323e-17)\n",
      "FFF2014J Breakdown\n",
      "WilcoxonResult(statistic=0.0, pvalue=0.125)\n",
      "WilcoxonResult(statistic=4.0, pvalue=0.875)\n",
      "WilcoxonResult(statistic=0.0, pvalue=0.125)\n",
      "WilcoxonResult(statistic=0.0, pvalue=0.125)\n",
      "WilcoxonResult(statistic=0.0, pvalue=0.125)\n",
      "WilcoxonResult(statistic=0.0, pvalue=0.125)\n",
      "WilcoxonResult(statistic=0.0, pvalue=0.03125)\n",
      "WilcoxonResult(statistic=0.0, pvalue=0.03125)\n",
      "WilcoxonResult(statistic=0.0, pvalue=0.03125)\n",
      "WilcoxonResult(statistic=0.0, pvalue=0.03125)\n",
      "WilcoxonResult(statistic=0.0, pvalue=0.03125)\n",
      "WilcoxonResult(statistic=0.0, pvalue=0.03125)\n",
      "WilcoxonResult(statistic=0.0, pvalue=0.00390625)\n",
      "WilcoxonResult(statistic=0.0, pvalue=0.00390625)\n",
      "WilcoxonResult(statistic=0.0, pvalue=0.00390625)\n",
      "WilcoxonResult(statistic=0.0, pvalue=2.1867492103603084e-14)\n",
      "WilcoxonResult(statistic=0.0, pvalue=2.1867492103603084e-14)\n",
      "WilcoxonResult(statistic=0.0, pvalue=2.1867492103603084e-14)\n"
     ]
    }
   ],
   "source": [
    "Z1B_PassFFF2014J = X_PassFFF2014J['per_student_avg_week_agg_cum_weighted_score'].tolist()\n",
    "Z1B_FailFFF2014J = X_FailFFF2014J['per_student_avg_week_agg_cum_weighted_score'].tolist()\n",
    "Z1B_DistinctionFFF2014J = X_DistinctionFFF2014J['per_student_avg_week_agg_cum_weighted_score'].tolist()\n",
    "Z1B_WithdrawnFFFF2014J = X_WithdrawnFFF2014J['per_student_avg_week_agg_cum_weighted_score'].tolist()\n",
    "\n",
    "#Z2B_PassFFF2014J = Y_PassFFF2014J['per_student_avg_week_agg_cum_sum_click'].tolist()\n",
    "#Z2B_FailFFF2014J = Y_FailFFF2014J['per_student_avg_week_agg_cum_sum_click'].tolist()\n",
    "#Z2B_DistinctionFFF2014J = Y_DistinctionFFF2014J['per_student_avg_week_agg_cum_sum_click'].tolist()\n",
    "#Z2B_WithdrawnFFF2014J = Y_WithdrawnFFF2014J['per_student_avg_week_agg_cum_sum_click'].tolist()\n",
    "\n",
    "print('FFF2014J')\n",
    "print(stats.wilcoxon(Z1B_PassFFF2014J, Z1B_FailFFF2014J))\n",
    "print(stats.wilcoxon(Z1B_PassFFF2014J, Z1B_DistinctionFFF2014J))\n",
    "print(stats.wilcoxon(Z1B_FailFFF2014J, Z1B_DistinctionFFF2014J))\n",
    "\n",
    "#print(stats.wilcoxon(Z2B_PassFFF2014J, Z2B_FailFFF2014J))\n",
    "#print(stats.wilcoxon(Z2B_PassFFF2014J, Z2B_DistinctionFFF2014J))\n",
    "#print(stats.wilcoxon(Z2B_FailFFF2014J, Z2B_DistinctionFFF2014J))\n",
    "\n",
    "\n",
    "Z1B0_PassFFF2014J = X_PassFFF2014J['per_student_avg_week_agg_cum_weighted_score'][\\\n",
    "    (X_PassFFF2014J['_date_group'] >=0) & (X_PassFFF2014J['_date_group'] <=3)]\n",
    "Z1B1_PassFFF2014J = X_PassFFF2014J['per_student_avg_week_agg_cum_weighted_score'][\\\n",
    "    (X_PassFFF2014J['_date_group'] >=4) & (X_PassFFF2014J['_date_group'] <=7)]\n",
    "Z1B2_PassFFF2014J = X_PassFFF2014J['per_student_avg_week_agg_cum_weighted_score'][\\\n",
    "    (X_PassFFF2014J['_date_group'] >=8) & (X_PassFFF2014J['_date_group'] <=13)]\n",
    "Z1B3_PassFFF2014J = X_PassFFF2014J['per_student_avg_week_agg_cum_weighted_score'][\\\n",
    "    (X_PassFFF2014J['_date_group'] >=14) & (X_PassFFF2014J['_date_group'] <=19)]\n",
    "Z1B4_PassFFF2014J = X_PassFFF2014J['per_student_avg_week_agg_cum_weighted_score'][\\\n",
    "    (X_PassFFF2014J['_date_group'] >=20) & (X_PassFFF2014J['_date_group'] <=28)]\n",
    "Z1B5_PassFFF2014J = X_PassFFF2014J['per_student_avg_week_agg_cum_weighted_score'][\\\n",
    "    (X_PassFFF2014J['_date_group'] >=29)]\n",
    "\n",
    "Z1B0_FailFFF2014J = X_FailFFF2014J['per_student_avg_week_agg_cum_weighted_score'][\\\n",
    "    (X_FailFFF2014J['_date_group'] >=0) & (X_FailFFF2014J['_date_group'] <=3)]\n",
    "Z1B1_FailFFF2014J = X_FailFFF2014J['per_student_avg_week_agg_cum_weighted_score'][\\\n",
    "    (X_FailFFF2014J['_date_group'] >=4) & (X_FailFFF2014J['_date_group'] <=7)]\n",
    "Z1B2_FailFFF2014J = X_FailFFF2014J['per_student_avg_week_agg_cum_weighted_score'][\\\n",
    "    (X_FailFFF2014J['_date_group'] >=8) & (X_FailFFF2014J['_date_group'] <=13)]\n",
    "Z1B3_FailFFF2014J = X_FailFFF2014J['per_student_avg_week_agg_cum_weighted_score'][\\\n",
    "    (X_FailFFF2014J['_date_group'] >=14) & (X_FailFFF2014J['_date_group'] <=19)]\n",
    "Z1B4_FailFFF2014J = X_FailFFF2014J['per_student_avg_week_agg_cum_weighted_score'][\\\n",
    "    (X_FailFFF2014J['_date_group'] >=20) & (X_FailFFF2014J['_date_group'] <=28)]\n",
    "Z1B5_FailFFF2014J = X_FailFFF2014J['per_student_avg_week_agg_cum_weighted_score'][\\\n",
    "    (X_FailFFF2014J['_date_group'] >=29)]\n",
    "\n",
    "Z1B0_DistinctionFFF2014J = X_DistinctionFFF2014J['per_student_avg_week_agg_cum_weighted_score'][\\\n",
    "    (X_DistinctionFFF2014J['_date_group'] >=0) & (X_DistinctionFFF2014J['_date_group'] <=3)]\n",
    "Z1B1_DistinctionFFF2014J = X_DistinctionFFF2014J['per_student_avg_week_agg_cum_weighted_score'][\\\n",
    "    (X_DistinctionFFF2014J['_date_group'] >=4) & (X_DistinctionFFF2014J['_date_group'] <=7)]\n",
    "Z1B2_DistinctionFFF2014J = X_DistinctionFFF2014J['per_student_avg_week_agg_cum_weighted_score'][\\\n",
    "    (X_DistinctionFFF2014J['_date_group'] >=8) & (X_DistinctionFFF2014J['_date_group'] <=13)]\n",
    "Z1B3_DistinctionFFF2014J = X_DistinctionFFF2014J['per_student_avg_week_agg_cum_weighted_score'][\\\n",
    "    (X_DistinctionFFF2014J['_date_group'] >=14) & (X_DistinctionFFF2014J['_date_group'] <=19)]\n",
    "Z1B4_DistinctionFFF2014J = X_DistinctionFFF2014J['per_student_avg_week_agg_cum_weighted_score'][\\\n",
    "    (X_DistinctionFFF2014J['_date_group'] >=20) & (X_DistinctionFFF2014J['_date_group'] <=28)]\n",
    "Z1B5_DistinctionFFF2014J = X_DistinctionFFF2014J['per_student_avg_week_agg_cum_weighted_score'][\\\n",
    "    (X_DistinctionFFF2014J['_date_group'] >=29)]\n",
    "\n",
    "\n",
    "\n",
    "print('FFF2014J Breakdown')\n",
    "print(stats.wilcoxon(Z1B0_PassFFF2014J, Z1B0_FailFFF2014J))\n",
    "print(stats.wilcoxon(Z1B0_PassFFF2014J, Z1B0_DistinctionFFF2014J))\n",
    "print(stats.wilcoxon(Z1B0_FailFFF2014J, Z1B0_DistinctionFFF2014J))\n",
    "\n",
    "print(stats.wilcoxon(Z1B1_PassFFF2014J, Z1B1_FailFFF2014J))\n",
    "print(stats.wilcoxon(Z1B1_PassFFF2014J, Z1B1_DistinctionFFF2014J))\n",
    "print(stats.wilcoxon(Z1B1_FailFFF2014J, Z1B1_DistinctionFFF2014J))\n",
    "\n",
    "print(stats.wilcoxon(Z1B2_PassFFF2014J, Z1B2_FailFFF2014J))\n",
    "print(stats.wilcoxon(Z1B2_PassFFF2014J, Z1B2_DistinctionFFF2014J))\n",
    "print(stats.wilcoxon(Z1B2_FailFFF2014J, Z1B2_DistinctionFFF2014J))\n",
    "\n",
    "print(stats.wilcoxon(Z1B3_PassFFF2014J, Z1B3_FailFFF2014J))\n",
    "print(stats.wilcoxon(Z1B3_PassFFF2014J, Z1B3_DistinctionFFF2014J))\n",
    "print(stats.wilcoxon(Z1B3_FailFFF2014J, Z1B3_DistinctionFFF2014J))\n",
    "\n",
    "print(stats.wilcoxon(Z1B4_PassFFF2014J, Z1B4_FailFFF2014J))\n",
    "print(stats.wilcoxon(Z1B4_PassFFF2014J, Z1B4_DistinctionFFF2014J))\n",
    "print(stats.wilcoxon(Z1B4_FailFFF2014J, Z1B4_DistinctionFFF2014J))\n",
    "\n",
    "print(stats.wilcoxon(Z1B5_PassFFF2014J, Z1B5_FailFFF2014J))\n",
    "print(stats.wilcoxon(Z1B5_PassFFF2014J, Z1B5_DistinctionFFF2014J))\n",
    "print(stats.wilcoxon(Z1B5_FailFFF2014J, Z1B5_DistinctionFFF2014J))"
   ]
  },
  {
   "cell_type": "code",
   "execution_count": 76,
   "id": "f25a7d40",
   "metadata": {},
   "outputs": [],
   "source": [
    "# Between Week 8 and 13 for FFF2014J for pvalue<0.05"
   ]
  },
  {
   "cell_type": "code",
   "execution_count": 77,
   "id": "228cbefd",
   "metadata": {},
   "outputs": [
    {
     "data": {
      "text/plain": [
       "<matplotlib.lines.Line2D at 0x1af0d9739a0>"
      ]
     },
     "execution_count": 77,
     "metadata": {},
     "output_type": "execute_result"
    },
    {
     "data": {
      "image/png": "[encoded data removed]",
      "text/plain": [
       "<Figure size 432x288 with 1 Axes>"
      ]
     },
     "metadata": {
      "needs_background": "light"
     },
     "output_type": "display_data"
    }
   ],
   "source": [
    "plt.plot(X_PassFFF2014J['_date_group'], X_PassFFF2014J['per_student_avg_week_agg_cum_weighted_score'])\n",
    "plt.plot(X_FailFFF2014J['_date_group'], X_FailFFF2014J['per_student_avg_week_agg_cum_weighted_score'])\n",
    "plt.plot(X_DistinctionFFF2014J['_date_group'], X_DistinctionFFF2014J['per_student_avg_week_agg_cum_weighted_score'])\n",
    "plt.plot(X_WithdrawnFFF2014J['_date_group'], X_WithdrawnFFF2014J['per_student_avg_week_agg_cum_weighted_score'])\n",
    "plt.axvline(x=12, color='k', linestyle='--')"
   ]
  },
  {
   "cell_type": "code",
   "execution_count": 78,
   "id": "8189a8a0",
   "metadata": {},
   "outputs": [
    {
     "data": {
      "text/plain": [
       "<matplotlib.lines.Line2D at 0x1af13905b80>"
      ]
     },
     "execution_count": 78,
     "metadata": {},
     "output_type": "execute_result"
    },
    {
     "data": {
      "image/png": "[encoded data removed]",
      "text/plain": [
       "<Figure size 432x288 with 1 Axes>"
      ]
     },
     "metadata": {
      "needs_background": "light"
     },
     "output_type": "display_data"
    }
   ],
   "source": [
    "plt.plot(X_PassFFF2013J['_date_group'], X_PassFFF2013J['per_student_avg_week_agg_cum_weighted_score'])\n",
    "plt.plot(X_FailFFF2013J['_date_group'], X_FailFFF2013J['per_student_avg_week_agg_cum_weighted_score'])\n",
    "plt.plot(X_DistinctionFFF2013J['_date_group'], X_DistinctionFFF2013J['per_student_avg_week_agg_cum_weighted_score'])\n",
    "plt.plot(X_WithdrawnFFF2013J['_date_group'], X_WithdrawnFFF2013J['per_student_avg_week_agg_cum_weighted_score'])\n",
    "plt.axvline(x=12, color='k', linestyle='--')"
   ]
  },
  {
   "cell_type": "code",
   "execution_count": 79,
   "id": "c26b87e0",
   "metadata": {},
   "outputs": [
    {
     "data": {
      "text/plain": [
       "<matplotlib.lines.Line2D at 0x1af16b712e0>"
      ]
     },
     "execution_count": 79,
     "metadata": {},
     "output_type": "execute_result"
    },
    {
     "data": {
      "image/png": "[encoded data removed]",
      "text/plain": [
       "<Figure size 432x288 with 1 Axes>"
      ]
     },
     "metadata": {
      "needs_background": "light"
     },
     "output_type": "display_data"
    }
   ],
   "source": [
    "plt.plot(X_PassFFF2013B['_date_group'], X_PassFFF2013B['per_student_avg_week_agg_cum_weighted_score'])\n",
    "plt.plot(X_FailFFF2013B['_date_group'], X_FailFFF2013B['per_student_avg_week_agg_cum_weighted_score'])\n",
    "plt.plot(X_DistinctionFFF2013B['_date_group'], X_DistinctionFFF2013B['per_student_avg_week_agg_cum_weighted_score'])\n",
    "plt.plot(X_WithdrawnFFF2013B['_date_group'], X_WithdrawnFFF2013B['per_student_avg_week_agg_cum_weighted_score'])\n",
    "plt.axvline(x=12, color='k', linestyle='--')"
   ]
  },
  {
   "cell_type": "code",
   "execution_count": 80,
   "id": "77ace7d4",
   "metadata": {},
   "outputs": [
    {
     "data": {
      "text/plain": [
       "<matplotlib.lines.Line2D at 0x1af16bcc340>"
      ]
     },
     "execution_count": 80,
     "metadata": {},
     "output_type": "execute_result"
    },
    {
     "data": {
      "image/png": "[encoded data removed]",
      "text/plain": [
       "<Figure size 432x288 with 1 Axes>"
      ]
     },
     "metadata": {
      "needs_background": "light"
     },
     "output_type": "display_data"
    }
   ],
   "source": [
    "plt.plot(X_PassFFF2014B['_date_group'], X_PassFFF2014B['per_student_avg_week_agg_cum_weighted_score'])\n",
    "plt.plot(X_FailFFF2014B['_date_group'], X_FailFFF2014B['per_student_avg_week_agg_cum_weighted_score'])\n",
    "plt.plot(X_DistinctionFFF2014B['_date_group'], X_DistinctionFFF2014B['per_student_avg_week_agg_cum_weighted_score'])\n",
    "plt.plot(X_WithdrawnFFF2014B['_date_group'], X_WithdrawnFFF2014B['per_student_avg_week_agg_cum_weighted_score'])\n",
    "plt.axvline(x=12, color='k', linestyle='--')"
   ]
  },
  {
   "cell_type": "markdown",
   "id": "7532fc34",
   "metadata": {},
   "source": [
    "Let's try to opt for the following at Week 12 cutoff point for modeling point\n",
    "FFF 2013B 1614 students for train week\n",
    "FFF 2013J 2283 students for train week\n",
    "FFF 2014B 1500 students for train week\n",
    "FFF 2014J 2365 students for test week"
   ]
  },
  {
   "cell_type": "code",
   "execution_count": null,
   "id": "3d8c7de3",
   "metadata": {},
   "outputs": [],
   "source": []
  }
 ],
 "metadata": {
  "kernelspec": {
   "display_name": "Python 3",
   "language": "python",
   "name": "python3"
  },
  "language_info": {
   "codemirror_mode": {
    "name": "ipython",
    "version": 3
   },
   "file_extension": ".py",
   "mimetype": "text/x-python",
   "name": "python",
   "nbconvert_exporter": "python",
   "pygments_lexer": "ipython3",
   "version": "3.8.8"
  }
 },
 "nbformat": 4,
 "nbformat_minor": 5
}
